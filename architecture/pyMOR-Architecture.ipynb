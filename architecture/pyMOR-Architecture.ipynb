{
 "cells": [
  {
   "cell_type": "markdown",
   "id": "0a8f650c",
   "metadata": {
    "slideshow": {
     "slide_type": "slide"
    }
   },
   "source": [
    "# pyMOR Architecture\n",
    "#### Stephan Rave, University of Münster, Germany"
   ]
  },
  {
   "cell_type": "markdown",
   "id": "ef4f1ee2-04b4-4df1-b3ce-10e895f9add8",
   "metadata": {
    "jp-MarkdownHeadingCollapsed": true
   },
   "source": [
    "## Topics"
   ]
  },
  {
   "cell_type": "markdown",
   "id": "d2fe3b3b",
   "metadata": {},
   "source": [
    "- pyMOR's main interface classes: `VectorArrays`, `Operators`, `Models`\n",
    "- Parameters\n",
    "- Immutability\n",
    "- Defaults\n",
    "- RuleTables\n",
    "- Caching"
   ]
  },
  {
   "cell_type": "markdown",
   "id": "f349df2e",
   "metadata": {
    "jp-MarkdownHeadingCollapsed": true,
    "slideshow": {
     "slide_type": "subslide"
    }
   },
   "source": [
    "## pyMOR's main interface classes"
   ]
  },
  {
   "cell_type": "markdown",
   "id": "841f1c7c",
   "metadata": {
    "slideshow": {
     "slide_type": "subslide"
    }
   },
   "source": [
    "### Goal\n",
    "> Implement MOR algorithms in terms of operations on abstract mathematical objects, such that the same algorithm can be used with different PDE/LA backends.\n",
    "\n",
    "### Needed objects\n",
    "- vectors -> `VectorArrays` (support vectorized LA such as NumPY)\n",
    "- matrices, nonlinear operators, (non-)linear solvers -> `Operators`\n",
    "- problem structure, solution algorithms -> `Models`\n",
    "\n",
    "### Supported PDE solvers\n",
    "\n",
    "Official support for:\n",
    "- NumPy/SciPy-based models (built-in, scikit-fem, ...)\n",
    "- FEniCS\n",
    "- FEniCSx (in development)\n",
    "- NGSolve\n",
    "- deal.II\n",
    "\n",
    "pyMOR has been used with various flavors of DUNE and proprietary codes."
   ]
  },
  {
   "cell_type": "markdown",
   "id": "dd24dd62",
   "metadata": {
    "jp-MarkdownHeadingCollapsed": true,
    "slideshow": {
     "slide_type": "slide"
    }
   },
   "source": [
    "## VectorArrays"
   ]
  },
  {
   "cell_type": "markdown",
   "id": "f3647ad0",
   "metadata": {
    "slideshow": {
     "slide_type": "slide"
    }
   },
   "source": [
    "- A (short) sequence of (high-dimensional) vectors.\n",
    "- Think of tall-and-skinny or short-and-fat matrix.\n",
    "- All vectors live in the same associated `VectorSpace`.\n",
    "- `VectorArrays` are always created by the `VectorSpace`.\n",
    "- Vectors in pyMOR are just `VectorArrays` of length one.\n",
    "- `pymor.vectorarrays.interface.VectorArray` defines the `VectorArray` interface."
   ]
  },
  {
   "cell_type": "markdown",
   "id": "dff35102",
   "metadata": {},
   "source": [
    "### Creating VectorArrays"
   ]
  },
  {
   "cell_type": "markdown",
   "id": "b45b4b9d",
   "metadata": {},
   "source": [
    "**Create a NumpyVectorSpace**"
   ]
  },
  {
   "cell_type": "code",
   "execution_count": null,
   "id": "80b16d9a",
   "metadata": {
    "slideshow": {
     "slide_type": "subslide"
    }
   },
   "outputs": [],
   "source": [
    "from pymor.basic import NumpyVectorSpace\n",
    "\n",
    "space = NumpyVectorSpace(5)\n",
    "print(space.dim)"
   ]
  },
  {
   "cell_type": "markdown",
   "id": "33b31146",
   "metadata": {},
   "source": [
    "**Empty array**"
   ]
  },
  {
   "cell_type": "code",
   "execution_count": null,
   "id": "a18bbdd9",
   "metadata": {},
   "outputs": [],
   "source": [
    "V = space.empty()\n",
    "print(V)"
   ]
  },
  {
   "cell_type": "markdown",
   "id": "b88e8086",
   "metadata": {},
   "source": [
    "**Array of zero vectors**"
   ]
  },
  {
   "cell_type": "code",
   "execution_count": null,
   "id": "7a7d395e",
   "metadata": {
    "slideshow": {
     "slide_type": "fragment"
    }
   },
   "outputs": [],
   "source": [
    "V = space.zeros(3)\n",
    "print(V)"
   ]
  },
  {
   "cell_type": "markdown",
   "id": "306b35a7",
   "metadata": {},
   "source": [
    "**Array of random vectors**"
   ]
  },
  {
   "cell_type": "code",
   "execution_count": null,
   "id": "78d0403c",
   "metadata": {
    "slideshow": {
     "slide_type": "fragment"
    }
   },
   "outputs": [],
   "source": [
    "V = space.random(2)\n",
    "print(V)"
   ]
  },
  {
   "cell_type": "markdown",
   "id": "e80b9c57",
   "metadata": {},
   "source": [
    "**Array of constant coefficient vectors**"
   ]
  },
  {
   "cell_type": "code",
   "execution_count": null,
   "id": "39d1d158",
   "metadata": {
    "slideshow": {
     "slide_type": "fragment"
    }
   },
   "outputs": [],
   "source": [
    "V = space.ones(1)\n",
    "print(V)\n",
    "V = space.full(99., 1)\n",
    "print(V)"
   ]
  },
  {
   "cell_type": "markdown",
   "id": "a274641f",
   "metadata": {},
   "source": [
    "**Create array from backend data**"
   ]
  },
  {
   "cell_type": "code",
   "execution_count": null,
   "id": "f0271cfc",
   "metadata": {
    "slideshow": {
     "slide_type": "subslide"
    }
   },
   "outputs": [],
   "source": [
    "import numpy as np\n",
    "a = np.arange(15).reshape(5, 3)\n",
    "print(a)"
   ]
  },
  {
   "cell_type": "code",
   "execution_count": null,
   "id": "4c2ede28",
   "metadata": {
    "slideshow": {
     "slide_type": "fragment"
    }
   },
   "outputs": [],
   "source": [
    "V = space.make_array(a)\n",
    "V"
   ]
  },
  {
   "cell_type": "markdown",
   "id": "518a1c5f",
   "metadata": {},
   "source": [
    "**Warning:** Data is not copied in most cases."
   ]
  },
  {
   "cell_type": "code",
   "execution_count": null,
   "id": "5113da0f",
   "metadata": {},
   "outputs": [],
   "source": [
    "a[0,0] = 999\n",
    "print(V)"
   ]
  },
  {
   "cell_type": "markdown",
   "id": "2d8f1400",
   "metadata": {},
   "source": [
    "### Interface methods"
   ]
  },
  {
   "cell_type": "markdown",
   "id": "5aec8b39",
   "metadata": {},
   "source": [
    "**Length of an array**"
   ]
  },
  {
   "cell_type": "code",
   "execution_count": null,
   "id": "75e76de8",
   "metadata": {},
   "outputs": [],
   "source": [
    "V = space.ones(3)\n",
    "len(V)"
   ]
  },
  {
   "cell_type": "markdown",
   "id": "a5abee90",
   "metadata": {},
   "source": [
    "**Vector operations**"
   ]
  },
  {
   "cell_type": "code",
   "execution_count": null,
   "id": "0c81bbad",
   "metadata": {
    "slideshow": {
     "slide_type": "subslide"
    }
   },
   "outputs": [],
   "source": [
    "V = space.make_array(np.arange(10).reshape(5, 2))\n",
    "W = space.make_array(np.arange(0, 20, 2).reshape(5, 2))"
   ]
  },
  {
   "cell_type": "code",
   "execution_count": null,
   "id": "f1f706fa",
   "metadata": {
    "slideshow": {
     "slide_type": "fragment"
    }
   },
   "outputs": [],
   "source": [
    "print(V + W)"
   ]
  },
  {
   "cell_type": "code",
   "execution_count": null,
   "id": "bbcf3202",
   "metadata": {
    "slideshow": {
     "slide_type": "fragment"
    }
   },
   "outputs": [],
   "source": [
    "print(V - W)"
   ]
  },
  {
   "cell_type": "code",
   "execution_count": null,
   "id": "a46d470a",
   "metadata": {
    "slideshow": {
     "slide_type": "fragment"
    }
   },
   "outputs": [],
   "source": [
    "print(V * 2)"
   ]
  },
  {
   "cell_type": "code",
   "execution_count": null,
   "id": "6437dbc1",
   "metadata": {
    "slideshow": {
     "slide_type": "fragment"
    }
   },
   "outputs": [],
   "source": [
    "print(V.lincomb(np.array([1, 2])))"
   ]
  },
  {
   "cell_type": "code",
   "execution_count": null,
   "id": "975561d7",
   "metadata": {},
   "outputs": [],
   "source": [
    "print(V.lincomb(np.array([[1, 99],\n",
    "                          [2,  0]])))"
   ]
  },
  {
   "cell_type": "markdown",
   "id": "3023947c",
   "metadata": {},
   "source": [
    "**VectorArrays are mutable!**"
   ]
  },
  {
   "cell_type": "code",
   "execution_count": null,
   "id": "26cce7bd",
   "metadata": {},
   "outputs": [],
   "source": [
    "V.scal(2)\n",
    "print(V)"
   ]
  },
  {
   "cell_type": "code",
   "execution_count": null,
   "id": "adb0e886",
   "metadata": {},
   "outputs": [],
   "source": [
    "V.axpy(3, W)\n",
    "print(V)"
   ]
  },
  {
   "cell_type": "markdown",
   "id": "eabb4926",
   "metadata": {},
   "source": [
    "**Norms and inner products**"
   ]
  },
  {
   "cell_type": "code",
   "execution_count": null,
   "id": "85fd7978",
   "metadata": {
    "slideshow": {
     "slide_type": "fragment"
    }
   },
   "outputs": [],
   "source": [
    "print(V.norm())"
   ]
  },
  {
   "cell_type": "code",
   "execution_count": null,
   "id": "2f26335b",
   "metadata": {
    "slideshow": {
     "slide_type": "subslide"
    }
   },
   "outputs": [],
   "source": [
    "print(V.inner(W))"
   ]
  },
  {
   "cell_type": "code",
   "execution_count": null,
   "id": "cd6e0f04",
   "metadata": {},
   "outputs": [],
   "source": [
    "print(V.pairwise_inner(W))"
   ]
  },
  {
   "cell_type": "code",
   "execution_count": null,
   "id": "28755149",
   "metadata": {},
   "outputs": [],
   "source": [
    "print(V.gramian())  # == V.inner(V)"
   ]
  },
  {
   "cell_type": "markdown",
   "id": "4452afb5",
   "metadata": {
    "slideshow": {
     "slide_type": "subslide"
    }
   },
   "source": [
    "**Coefficient access**"
   ]
  },
  {
   "cell_type": "code",
   "execution_count": null,
   "id": "1173cb9f",
   "metadata": {
    "slideshow": {
     "slide_type": "fragment"
    }
   },
   "outputs": [],
   "source": [
    "print(V)\n",
    "print(V.dofs([1,4]))"
   ]
  },
  {
   "cell_type": "markdown",
   "id": "856ebe1b",
   "metadata": {
    "slideshow": {
     "slide_type": "fragment"
    }
   },
   "source": [
    "Only a few `dofs` should be extracted at once. This is again motivated by the fact that the `VectorArray` may be using a backend where extracting all (a large number) is either not possible or expensive."
   ]
  },
  {
   "cell_type": "code",
   "execution_count": null,
   "id": "ca7e7a7a",
   "metadata": {},
   "outputs": [],
   "source": [
    "print(V.amax())"
   ]
  },
  {
   "cell_type": "markdown",
   "id": "cf4bf45a",
   "metadata": {
    "slideshow": {
     "slide_type": "fragment"
    }
   },
   "source": [
    "`dofs` and `amax` are mostly used for empirical interpolation."
   ]
  },
  {
   "cell_type": "markdown",
   "id": "dc842e23",
   "metadata": {},
   "source": [
    "**Array operations**"
   ]
  },
  {
   "cell_type": "code",
   "execution_count": null,
   "id": "fc8c05a8",
   "metadata": {
    "slideshow": {
     "slide_type": "fragment"
    }
   },
   "outputs": [],
   "source": [
    "U = V.copy()"
   ]
  },
  {
   "cell_type": "markdown",
   "id": "5c052240",
   "metadata": {},
   "source": [
    "`VectorArrays` use a copy-on-write mechanism. Actual data is only copied when `U` or `V` is modified."
   ]
  },
  {
   "cell_type": "code",
   "execution_count": null,
   "id": "9ce4ba7a",
   "metadata": {
    "slideshow": {
     "slide_type": "fragment"
    }
   },
   "outputs": [],
   "source": [
    "U.append(W)\n",
    "print(U)"
   ]
  },
  {
   "cell_type": "code",
   "execution_count": null,
   "id": "a79b571c",
   "metadata": {},
   "outputs": [],
   "source": [
    "del U[2]\n",
    "print(U)"
   ]
  },
  {
   "cell_type": "code",
   "execution_count": null,
   "id": "3580e80c",
   "metadata": {},
   "outputs": [],
   "source": [
    "print(U[0:2])"
   ]
  },
  {
   "cell_type": "code",
   "execution_count": null,
   "id": "bb9c9264",
   "metadata": {},
   "outputs": [],
   "source": [
    "print(U[[0,2]])\n",
    "print(U[[0,2]].is_view)"
   ]
  },
  {
   "cell_type": "markdown",
   "id": "a7af632b",
   "metadata": {},
   "source": [
    "Indexing and advanced indexing similar as for NumPy arrays is available.\n",
    "\n",
    "**Any form of indexing always create a view onto the original array!**"
   ]
  },
  {
   "cell_type": "markdown",
   "id": "acd67bb0",
   "metadata": {},
   "source": [
    "### Conversion to NumPy array"
   ]
  },
  {
   "cell_type": "markdown",
   "id": "a62b8420",
   "metadata": {
    "slideshow": {
     "slide_type": "subslide"
    }
   },
   "source": [
    "Depending on the `VectorArray` implementation, `to_numpy` and `from_numpy` methods may be available.\n",
    "\n",
    "For `NumpyVectorArrays` this clearly works, and `from_numpy` and `make_array` essentially do the same thing."
   ]
  },
  {
   "cell_type": "code",
   "execution_count": null,
   "id": "d2dc0881",
   "metadata": {
    "slideshow": {
     "slide_type": "fragment"
    }
   },
   "outputs": [],
   "source": [
    "a = np.arange(15).reshape(5, 3)\n",
    "V = NumpyVectorSpace.from_numpy(a)\n",
    "print(repr(V))\n",
    "print(repr(V.to_numpy()))"
   ]
  },
  {
   "cell_type": "markdown",
   "id": "c0b6d4ce",
   "metadata": {
    "slideshow": {
     "slide_type": "fragment"
    }
   },
   "source": [
    "If you are using only NumPy-based data in your own application, using these methods is typically fine. However, pyMOR code will generally avoid these methods since they may not be available for all `VectorArray` implementations."
   ]
  },
  {
   "cell_type": "markdown",
   "id": "205eec9b",
   "metadata": {
    "slideshow": {
     "slide_type": "subslide"
    }
   },
   "source": [
    "### NumpyVectorArrays vs NumPy array\n",
    "\n",
    "Both types of arrays are used extensively in pyMOR.\n",
    "\n",
    "`VectorArrays` are used whenever vectors that live in a (potentially high-dimensional) state-space are represented, e.g.:\n",
    "\n",
    "- internal state of a `Model`,\n",
    "- basis used for projection,\n",
    "- vectors that \"live\" in an external PDE solver.\n",
    "\n",
    "NumPy arrays are used for (low-dimensional) data which has no direct connection to an external solver, e.g.:\n",
    "\n",
    "- inputs and outputs of models,\n",
    "- coefficients for linear combinations,\n",
    "- computed inner products.\n",
    "\n",
    "`VectorArrays` appear to stored as column vectors, but\n",
    "\n",
    "- `VectorArrays` in pyMOR are not considered ***column or row vectors***, they are simply lists of vectors.\n",
    "- Mathematically there is no notion of row/column vectors from e.g. $\\mathbb{R}^n$ either.\n",
    "- Consequence: there is no `transpose` method for `VectorArrays`.\n",
    "- Only typical operations for \"mathematical\" vectors are supported."
   ]
  },
  {
   "cell_type": "markdown",
   "id": "eba468dd",
   "metadata": {
    "slideshow": {
     "slide_type": "subslide"
    }
   },
   "source": [
    "### ListVectorArray\n",
    "\n",
    "Linear algebra backends of PDE solvers often only have the notion of a single vector.\n",
    "\n",
    "pyMOR supports an interface for single vectors via the `Vector` class.\n",
    "\n",
    "The `ListVectorArray` manages a Python `list` of pyMOR `Vector` instances.\n",
    "\n",
    "Thus, for integrating a PDE solver, only a new `Vector` class needs to be implemented."
   ]
  },
  {
   "cell_type": "code",
   "execution_count": null,
   "id": "fc7fa35c",
   "metadata": {
    "slideshow": {
     "slide_type": "fragment"
    }
   },
   "outputs": [],
   "source": [
    "from pymor.vectorarrays.list import NumpyListVectorSpace\n",
    "\n",
    "space = NumpyListVectorSpace(4)\n",
    "W = space.random(3)\n",
    "print(type(W), space.vector_type)"
   ]
  },
  {
   "cell_type": "code",
   "execution_count": null,
   "id": "6100b6d3",
   "metadata": {
    "slideshow": {
     "slide_type": "fragment"
    }
   },
   "outputs": [],
   "source": [
    "print(W.vectors)"
   ]
  },
  {
   "cell_type": "code",
   "execution_count": null,
   "id": "6bf9e35e",
   "metadata": {
    "slideshow": {
     "slide_type": "fragment"
    }
   },
   "outputs": [],
   "source": [
    "print(W.vectors[0]._array)"
   ]
  },
  {
   "cell_type": "markdown",
   "id": "92f5dca3",
   "metadata": {},
   "source": [
    "### FEniCS VectorArrays"
   ]
  },
  {
   "cell_type": "markdown",
   "id": "b86d18c5",
   "metadata": {},
   "source": [
    "We create some discrete function in a finite element space over some mesh."
   ]
  },
  {
   "cell_type": "code",
   "execution_count": null,
   "id": "7faee735",
   "metadata": {},
   "outputs": [],
   "source": [
    "import dolfin as df\n",
    "\n",
    "mesh = df.UnitSquareMesh(100, 100)\n",
    "V = df.FunctionSpace(mesh, 'CG', 2)\n",
    "u = df.Function(V)\n",
    "u.interpolate(df.Expression('x[0]', degree=2))"
   ]
  },
  {
   "cell_type": "markdown",
   "id": "c56afbc5",
   "metadata": {},
   "source": [
    "Use FEniCS binding to create a `VectorArray`:"
   ]
  },
  {
   "cell_type": "code",
   "execution_count": null,
   "id": "35a933b5",
   "metadata": {},
   "outputs": [],
   "source": [
    "from pymor.bindings.fenics import FenicsVectorSpace\n",
    "space = FenicsVectorSpace(V)\n",
    "U = space.make_array([u.vector()])\n",
    "\n",
    "print(type(U), space.vector_type)\n",
    "U.vectors[0].real_part.impl"
   ]
  },
  {
   "cell_type": "markdown",
   "id": "6758aac2",
   "metadata": {},
   "source": [
    "We can use this array like any other `VectorArray`:"
   ]
  },
  {
   "cell_type": "code",
   "execution_count": null,
   "id": "ac9c1234",
   "metadata": {},
   "outputs": [],
   "source": [
    "U.append(space.ones())\n",
    "V = U.lincomb(np.array([3,4]))\n",
    "U.inner(V)"
   ]
  },
  {
   "cell_type": "markdown",
   "id": "c29ed505",
   "metadata": {},
   "source": [
    "### BlockVectorArray\n",
    "\n",
    "When working with systems, we often deal with `BlockVectorArrays`:"
   ]
  },
  {
   "cell_type": "code",
   "execution_count": null,
   "id": "eba04c28",
   "metadata": {},
   "outputs": [],
   "source": [
    "from pymor.vectorarrays.block import BlockVectorSpace\n",
    "space1 = NumpyVectorSpace(3)\n",
    "space2 = NumpyListVectorSpace(2)\n",
    "space = BlockVectorSpace([space1, space2])\n",
    "\n",
    "U = space.random(2)\n",
    "print(type(U))\n",
    "print(U.blocks[0])\n",
    "print(U.blocks[1])"
   ]
  },
  {
   "cell_type": "code",
   "execution_count": null,
   "id": "feb40132",
   "metadata": {},
   "outputs": [],
   "source": [
    "print(U.gramian())"
   ]
  },
  {
   "cell_type": "code",
   "execution_count": null,
   "id": "f9a24d61",
   "metadata": {},
   "outputs": [],
   "source": [
    "U.to_numpy()"
   ]
  },
  {
   "cell_type": "markdown",
   "id": "13b4baf2",
   "metadata": {
    "jp-MarkdownHeadingCollapsed": true,
    "slideshow": {
     "slide_type": "slide"
    }
   },
   "source": [
    "## Operators"
   ]
  },
  {
   "cell_type": "markdown",
   "id": "8720a04e",
   "metadata": {
    "slideshow": {
     "slide_type": "slide"
    }
   },
   "source": [
    "- `Operators` are (non-)parametric, (non-)linear mappings between `VectorSpaces`.\n",
    "- An `Operator` can be applied to any `VectorArray` from the `Operator`'s `source` `VectorSpace`.\n",
    "- `pymor.operators.interface.Operator` defines the `Operator` interface.\n",
    "- `Operators` are **immutable**. You cannot change their attributes."
   ]
  },
  {
   "cell_type": "markdown",
   "id": "cf85a23a",
   "metadata": {},
   "source": [
    "### Creating operators"
   ]
  },
  {
   "cell_type": "markdown",
   "id": "ad2a216e",
   "metadata": {},
   "source": [
    "**Operator from NumPy array**"
   ]
  },
  {
   "cell_type": "code",
   "execution_count": null,
   "id": "03775997",
   "metadata": {},
   "outputs": [],
   "source": [
    "from pymor.operators.numpy import NumpyMatrixOperator\n",
    "\n",
    "A = np.ones((3,2))\n",
    "Aop = NumpyMatrixOperator(A)\n",
    "\n",
    "print(Aop.range)\n",
    "print(Aop.source)\n",
    "print(Aop)\n",
    "print(Aop.matrix)"
   ]
  },
  {
   "cell_type": "markdown",
   "id": "4124304c",
   "metadata": {},
   "source": [
    "**Operator from SciPy sparse matrix**"
   ]
  },
  {
   "cell_type": "code",
   "execution_count": null,
   "id": "d2f4ecd0",
   "metadata": {
    "slideshow": {
     "slide_type": "fragment"
    }
   },
   "outputs": [],
   "source": [
    "import scipy.sparse as sps\n",
    "\n",
    "B = sps.diags([-2, 1, 1], [0, -1, 1], shape=(3, 3))\n",
    "Bop = NumpyMatrixOperator(B)\n",
    "\n",
    "print(Bop.range)\n",
    "print(Bop.source)\n",
    "print(Bop)\n",
    "print(Bop.sparse)"
   ]
  },
  {
   "cell_type": "markdown",
   "id": "35937d19",
   "metadata": {},
   "source": [
    "**Operator from mapping**"
   ]
  },
  {
   "cell_type": "code",
   "execution_count": null,
   "id": "ed7cda55",
   "metadata": {},
   "outputs": [],
   "source": [
    "from pymor.operators.numpy import NumpyGenericOperator\n",
    "\n",
    "Cop = NumpyGenericOperator(lambda X:X**2 - X[0, :], dim_range=3, dim_source=3)\n",
    "\n",
    "print(Cop.range)\n",
    "print(Cop.source)\n",
    "print(Cop.linear)"
   ]
  },
  {
   "cell_type": "markdown",
   "id": "c0d03887",
   "metadata": {},
   "source": [
    "### Interface methods"
   ]
  },
  {
   "cell_type": "markdown",
   "id": "a7bf5bde",
   "metadata": {
    "slideshow": {
     "slide_type": "subslide"
    }
   },
   "source": [
    "**Applying an Operator**"
   ]
  },
  {
   "cell_type": "code",
   "execution_count": null,
   "id": "c6e7b53c",
   "metadata": {
    "slideshow": {
     "slide_type": "fragment"
    }
   },
   "outputs": [],
   "source": [
    "print(Aop.matrix)\n",
    "V = Aop.source.ones(1)\n",
    "V.append(Aop.source.zeros(1))\n",
    "\n",
    "Aop.apply(V)"
   ]
  },
  {
   "cell_type": "code",
   "execution_count": null,
   "id": "5e0d009c",
   "metadata": {},
   "outputs": [],
   "source": [
    "Cop.apply(Cop.source.from_numpy(np.arange(3)))"
   ]
  },
  {
   "cell_type": "markdown",
   "id": "14346a1b",
   "metadata": {},
   "source": [
    "**Applying adjoint Operator** (adjoint = transposed matrix)"
   ]
  },
  {
   "cell_type": "code",
   "execution_count": null,
   "id": "da2c0fc4",
   "metadata": {},
   "outputs": [],
   "source": [
    "W = Aop.range.random()\n",
    "Aop.apply_adjoint(W)"
   ]
  },
  {
   "cell_type": "markdown",
   "id": "958a89a0",
   "metadata": {},
   "source": [
    "Of course, `apply_adjoint` is only implemented for linear `Operators`."
   ]
  },
  {
   "cell_type": "markdown",
   "id": "c10d5c0c",
   "metadata": {},
   "source": [
    "**Solving equations**"
   ]
  },
  {
   "cell_type": "code",
   "execution_count": null,
   "id": "6db09258",
   "metadata": {
    "slideshow": {
     "slide_type": "fragment"
    }
   },
   "outputs": [],
   "source": [
    "V = Bop.range.random()\n",
    "print(Bop.apply_inverse(V))"
   ]
  },
  {
   "cell_type": "markdown",
   "id": "9d039191",
   "metadata": {
    "slideshow": {
     "slide_type": "subslide"
    }
   },
   "source": [
    "`NumpyMatrixOperator.apply_inverse` chooses appropriate solvers for dense and sparse matrices. By default:\n",
    "\n",
    "- `scipy.linalg.lu_factor` for dense NumPy arrays\n",
    "- `scipy.sparse.linalg.splu` for SciPy sparse matrices.\n",
    "\n",
    "The solver can be customized using `solver_options` or global pyMOR `defaults` (see below)."
   ]
  },
  {
   "cell_type": "markdown",
   "id": "a6d2d9f5",
   "metadata": {
    "slideshow": {
     "slide_type": "subslide"
    }
   },
   "source": [
    "**Solving adjoint equations**"
   ]
  },
  {
   "cell_type": "code",
   "execution_count": null,
   "id": "2774ed83",
   "metadata": {},
   "outputs": [],
   "source": [
    "V = Bop.source.random()\n",
    "print(Bop.apply_inverse_adjoint(V))"
   ]
  },
  {
   "cell_type": "markdown",
   "id": "532131c3",
   "metadata": {},
   "source": [
    "**Operators as bilinear forms**"
   ]
  },
  {
   "cell_type": "code",
   "execution_count": null,
   "id": "9f3f05f4",
   "metadata": {
    "slideshow": {
     "slide_type": "fragment"
    }
   },
   "outputs": [],
   "source": [
    "W = Aop.range.random(2)\n",
    "V = Aop.source.random(3)\n",
    "print(Aop.apply2(W, V))   # evaluate W.T @ A @ V"
   ]
  },
  {
   "cell_type": "code",
   "execution_count": null,
   "id": "84c12a8a",
   "metadata": {},
   "outputs": [],
   "source": [
    "print(Aop.pairwise_apply2(W, V[:2]))"
   ]
  },
  {
   "cell_type": "markdown",
   "id": "a6ff31ff",
   "metadata": {},
   "source": [
    "**Operators as VectorArrays**\n",
    "\n",
    "For linear operators with low-dimensional source space, we have:"
   ]
  },
  {
   "cell_type": "code",
   "execution_count": null,
   "id": "b5f26b81",
   "metadata": {},
   "outputs": [],
   "source": [
    "Aop_range_array = Aop.as_range_array()\n",
    "print(Aop_range_array)\n",
    "print((Aop_range_array.lincomb(V.to_numpy()) - Aop.apply(V)).norm())"
   ]
  },
  {
   "cell_type": "markdown",
   "id": "1128b1fb",
   "metadata": {},
   "source": [
    "For linear operators with low-dimensional range space, we have:"
   ]
  },
  {
   "cell_type": "code",
   "execution_count": null,
   "id": "c6bb0162",
   "metadata": {},
   "outputs": [],
   "source": [
    "Aop_source_array = Aop.as_source_array()\n",
    "print(Aop_source_array)\n",
    "print((Aop.range.from_numpy(Aop_source_array.inner(V)) - Aop.apply(V)).norm())"
   ]
  },
  {
   "cell_type": "markdown",
   "id": "b1353273",
   "metadata": {},
   "source": [
    "**Nonlinear Operators**"
   ]
  },
  {
   "cell_type": "code",
   "execution_count": null,
   "id": "9a817bbb",
   "metadata": {
    "slideshow": {
     "slide_type": "fragment"
    }
   },
   "outputs": [],
   "source": [
    "from pymor.analyticalproblems.burgers import burgers_problem\n",
    "from pymor.discretizers.builtin import discretize_instationary_fv\n",
    "p = burgers_problem()\n",
    "m, _ = discretize_instationary_fv(p, diameter=1/10, nt=10)\n",
    "op = m.operator.assemble(m.parameters.parse(1.2))\n",
    "op"
   ]
  },
  {
   "cell_type": "markdown",
   "id": "3638c44f",
   "metadata": {},
   "source": [
    "We can linearize a nonlinear operator using the `jacobian` method:"
   ]
  },
  {
   "cell_type": "code",
   "execution_count": null,
   "id": "65912d02",
   "metadata": {},
   "outputs": [],
   "source": [
    "V = op.source.random()\n",
    "op.jacobian(V)"
   ]
  },
  {
   "cell_type": "markdown",
   "id": "36170372",
   "metadata": {},
   "source": [
    "`apply_inverse` will automatically run a Newton algorithm to solve the equation:"
   ]
  },
  {
   "cell_type": "code",
   "execution_count": null,
   "id": "47cc61ff",
   "metadata": {},
   "outputs": [],
   "source": [
    "W = op.range.random()\n",
    "V = (m.mass + 0.1 * op).apply_inverse(W)"
   ]
  },
  {
   "cell_type": "markdown",
   "id": "22a8ea77",
   "metadata": {},
   "source": [
    "For empirical interpolation, we need to restrict the operator to a few DOFs:"
   ]
  },
  {
   "cell_type": "code",
   "execution_count": null,
   "id": "da326bf2",
   "metadata": {},
   "outputs": [],
   "source": [
    "restricted_op, source_dofs = op.restricted(np.array([5,7,11]))\n",
    "print(restricted_op.range, restricted_op.source, source_dofs)"
   ]
  },
  {
   "cell_type": "code",
   "execution_count": null,
   "id": "7b8d0bbf",
   "metadata": {},
   "outputs": [],
   "source": [
    "V = op.source.random()\n",
    "(op.apply(V).dofs([5,7,11]) \n",
    "  - restricted_op.apply(restricted_op.source.from_numpy(V.dofs(source_dofs))).to_numpy())"
   ]
  },
  {
   "cell_type": "markdown",
   "id": "024f58af",
   "metadata": {
    "slideshow": {
     "slide_type": "subslide"
    }
   },
   "source": [
    "### LincombOperator\n",
    "\n",
    "Unlike for `VectorArrays`, adding, subtracting or scaling of `Operators` is not performed immediately but rather a `LincombOperator` is created."
   ]
  },
  {
   "cell_type": "code",
   "execution_count": null,
   "id": "9a108ee2",
   "metadata": {
    "slideshow": {
     "slide_type": "fragment"
    }
   },
   "outputs": [],
   "source": [
    "Aop = NumpyMatrixOperator(np.ones((3,3)))\n",
    "Bop = NumpyMatrixOperator(np.eye(3))\n",
    "Lop = 3*Aop - 2*Bop\n",
    "Lop"
   ]
  },
  {
   "cell_type": "markdown",
   "id": "61b75511",
   "metadata": {},
   "source": [
    "We can apply a `LincombOperator` like any other `Operator`:"
   ]
  },
  {
   "cell_type": "code",
   "execution_count": null,
   "id": "fc327520",
   "metadata": {
    "slideshow": {
     "slide_type": "fragment"
    }
   },
   "outputs": [],
   "source": [
    "V = Lop.source.random()\n",
    "Lop.apply(V)"
   ]
  },
  {
   "cell_type": "markdown",
   "id": "1ece780d",
   "metadata": {},
   "source": [
    "Calling `assemble` on a `LincombOperator` will return a single matrix operator when possible:"
   ]
  },
  {
   "cell_type": "code",
   "execution_count": null,
   "id": "00031210",
   "metadata": {
    "slideshow": {
     "slide_type": "fragment"
    }
   },
   "outputs": [],
   "source": [
    "Lop.assemble()"
   ]
  },
  {
   "cell_type": "markdown",
   "id": "6c7a119d",
   "metadata": {
    "slideshow": {
     "slide_type": "subslide"
    }
   },
   "source": [
    "### Further constructions\n",
    "\n",
    "Aside from the `LincombOperator`, there are many different types of operators in `pymor.operators.constructions`."
   ]
  },
  {
   "cell_type": "code",
   "execution_count": null,
   "id": "b0313c90",
   "metadata": {
    "slideshow": {
     "slide_type": "subslide"
    }
   },
   "outputs": [],
   "source": [
    "from pymor.operators.constructions import ZeroOperator, IdentityOperator\n",
    "\n",
    "Zop = ZeroOperator(Aop.range, Aop.source)\n",
    "Iop = IdentityOperator(Aop.range, Aop.source)\n",
    "Cop = Aop @ Bop\n",
    "\n",
    "LLop = Zop + Iop + Lop + Cop\n",
    "LLop"
   ]
  },
  {
   "cell_type": "markdown",
   "id": "6d36a7d4",
   "metadata": {
    "slideshow": {
     "slide_type": "subslide"
    }
   },
   "source": [
    "pyMOR's `Operators` can be implemented to wrap matrices/operator in a desired PDE backend,\n",
    "\n",
    "but also enable efficient and convenient handling of certain structured operators `BlockOperator`, `CanonicalSymplecticFormOperator`, `NumpyHankelOperator`, ..."
   ]
  },
  {
   "cell_type": "markdown",
   "id": "afa6ecdd",
   "metadata": {},
   "source": [
    "### Matrix conversion\n",
    "\n",
    "We can use `to_matrix` to try to convert a linear `Operator` into a matrix. This will generally only work for NumPy/SciPy-based `Operators`."
   ]
  },
  {
   "cell_type": "code",
   "execution_count": null,
   "id": "9a1cac85",
   "metadata": {
    "slideshow": {
     "slide_type": "-"
    }
   },
   "outputs": [],
   "source": [
    "from pymor.algorithms.to_matrix import to_matrix\n",
    "\n",
    "to_matrix(LLop)"
   ]
  },
  {
   "cell_type": "markdown",
   "id": "a3848a55",
   "metadata": {
    "jp-MarkdownHeadingCollapsed": true,
    "slideshow": {
     "slide_type": "slide"
    }
   },
   "source": [
    "## Models"
   ]
  },
  {
   "cell_type": "markdown",
   "id": "0c6199be",
   "metadata": {
    "slideshow": {
     "slide_type": "slide"
    }
   },
   "source": [
    "- `Models` are collections of `Operators` and `VectorArrays` that represent a particular type of model (equation system).\n",
    "- They define mappings from inputs/parameters to solutions and outputs.\n",
    "- `pymor.models.interface.Model` defines the `Model` interface.\n",
    "- `Models` are **immutable**. You cannot change their attributes.\n",
    "- MOR algorithms typically take a `Model` as an input and compute a ROM which will again be a `Model`."
   ]
  },
  {
   "cell_type": "code",
   "execution_count": null,
   "id": "82402e45",
   "metadata": {
    "slideshow": {
     "slide_type": "subslide"
    }
   },
   "outputs": [],
   "source": [
    "from pymor.models.examples import heat_equation_non_parametric_example\n",
    "\n",
    "m = heat_equation_non_parametric_example().to_lti()"
   ]
  },
  {
   "cell_type": "markdown",
   "id": "0b2cd160",
   "metadata": {},
   "source": [
    "### Interface methods"
   ]
  },
  {
   "cell_type": "markdown",
   "id": "92956b12",
   "metadata": {},
   "source": [
    "**Input/output dimensions, solution space**"
   ]
  },
  {
   "cell_type": "code",
   "execution_count": null,
   "id": "440b2e67",
   "metadata": {
    "slideshow": {
     "slide_type": "fragment"
    }
   },
   "outputs": [],
   "source": [
    "print(m.dim_input, m.dim_output, m.solution_space)"
   ]
  },
  {
   "cell_type": "markdown",
   "id": "a65ed9d8",
   "metadata": {},
   "source": [
    "**Time-domain solution**"
   ]
  },
  {
   "cell_type": "code",
   "execution_count": null,
   "id": "436848ca",
   "metadata": {
    "slideshow": {
     "slide_type": "subslide"
    }
   },
   "outputs": [],
   "source": [
    "V = m.solve(input='sin(10*t)')\n",
    "m.visualize(V)"
   ]
  },
  {
   "cell_type": "markdown",
   "id": "e6da130d",
   "metadata": {},
   "source": [
    "**Time-domain output**"
   ]
  },
  {
   "cell_type": "code",
   "execution_count": null,
   "id": "42432e5a",
   "metadata": {},
   "outputs": [],
   "source": [
    "out = m.output(input='sin(10*t)')\n",
    "from matplotlib import pyplot as plt\n",
    "plt.plot(out[0, :])"
   ]
  },
  {
   "cell_type": "markdown",
   "id": "c0c48eb6",
   "metadata": {},
   "source": [
    "**Computing multiple quantities at the same time**"
   ]
  },
  {
   "cell_type": "code",
   "execution_count": null,
   "id": "669046b6",
   "metadata": {},
   "outputs": [],
   "source": [
    "data = m.compute(solution=True, output=True, input='sin(10*t)')\n",
    "data.keys()"
   ]
  },
  {
   "cell_type": "markdown",
   "id": "f07f1f35",
   "metadata": {},
   "source": [
    "**Further optional interface methods**\n",
    "- `estimate_error`: a posteriori error estimator for ROM solution\n",
    "- `estimate_output_error`: a posteriori error estimator for ROM output\n",
    "- `solution_d_mu`: derivative of solution w.r.t. parameter\n",
    "- `output_d_mu`: derivative of output w.r.t. parameter"
   ]
  },
  {
   "cell_type": "markdown",
   "id": "a852c15e",
   "metadata": {
    "jp-MarkdownHeadingCollapsed": true,
    "slideshow": {
     "slide_type": "slide"
    }
   },
   "source": [
    "## Parameters and Parametric Objects"
   ]
  },
  {
   "cell_type": "markdown",
   "id": "cc27f0f4",
   "metadata": {
    "slideshow": {
     "slide_type": "slide"
    }
   },
   "source": [
    "`Operators` and `Models` can depend on one or more parameters."
   ]
  },
  {
   "cell_type": "markdown",
   "id": "6cd3c0a2",
   "metadata": {
    "slideshow": {
     "slide_type": "subslide"
    }
   },
   "source": [
    "### Parameters\n",
    "\n",
    "- An ordered dictionary with\n",
    "     * keys: parameter names\n",
    "     * values: corresponding dimensions.\n",
    "- It defines what parameters a parametric object depends on.\n",
    "- Names `'t'`, `'s'`, and `'input'` should only be used for time, frequency, and input, respectively.\n",
    "- Immutable"
   ]
  },
  {
   "cell_type": "code",
   "execution_count": null,
   "id": "561e33dc",
   "metadata": {
    "slideshow": {
     "slide_type": "fragment"
    }
   },
   "outputs": [],
   "source": [
    "from pymor.parameters.base import Parameters\n",
    "\n",
    "parameters = Parameters({'a': 1, 'b': 2})\n",
    "parameters"
   ]
  },
  {
   "cell_type": "markdown",
   "id": "0f674c61",
   "metadata": {
    "slideshow": {
     "slide_type": "subslide"
    }
   },
   "source": [
    "### Mu\n",
    "\n",
    "- An ordered dictionary with\n",
    "  * keys: parameters names\n",
    "  * values: corresponding values as 1D NumPy arrays.\n",
    "- Immutable"
   ]
  },
  {
   "cell_type": "code",
   "execution_count": null,
   "id": "8f47f802",
   "metadata": {
    "slideshow": {
     "slide_type": "fragment"
    }
   },
   "outputs": [],
   "source": [
    "from pymor.parameters.base import Mu\n",
    "\n",
    "mu = Mu({'a': np.array([1]), 'b': np.array([2, 3]), 'c': np.array([4, 5, 6])})\n",
    "mu"
   ]
  },
  {
   "cell_type": "markdown",
   "id": "d9f3816b",
   "metadata": {
    "slideshow": {
     "slide_type": "fragment"
    }
   },
   "source": [
    "**Check if a `Mu` contains values for all `Parameters`**"
   ]
  },
  {
   "cell_type": "code",
   "execution_count": null,
   "id": "81228a09",
   "metadata": {},
   "outputs": [],
   "source": [
    "print(parameters)\n",
    "print(mu)\n",
    "print(parameters.is_compatible(mu))"
   ]
  },
  {
   "cell_type": "markdown",
   "id": "0a3739a0",
   "metadata": {
    "slideshow": {
     "slide_type": "subslide"
    }
   },
   "source": [
    "**Parsing parameters**"
   ]
  },
  {
   "cell_type": "code",
   "execution_count": null,
   "id": "5a61f338",
   "metadata": {
    "slideshow": {
     "slide_type": "-"
    }
   },
   "outputs": [],
   "source": [
    "print(repr(parameters.parse({'a':1, 'b':[2,3]})))\n",
    "print(repr(parameters.parse([1,2,3])))"
   ]
  },
  {
   "cell_type": "code",
   "execution_count": null,
   "id": "53c48b12",
   "metadata": {},
   "outputs": [],
   "source": [
    "print(repr(Parameters({'a': 1}).parse(99)))"
   ]
  },
  {
   "cell_type": "markdown",
   "id": "cd5d47ad",
   "metadata": {
    "slideshow": {
     "slide_type": "subslide"
    }
   },
   "source": [
    "### ParameterSpace\n",
    "\n",
    "- A box-constrained set of possible parameter values.\n",
    "- Immutable."
   ]
  },
  {
   "cell_type": "markdown",
   "id": "5009483d",
   "metadata": {},
   "source": [
    "**Creating a ParameterSpace**"
   ]
  },
  {
   "cell_type": "code",
   "execution_count": null,
   "id": "52361cbf",
   "metadata": {
    "slideshow": {
     "slide_type": "-"
    }
   },
   "outputs": [],
   "source": [
    "print(parameters.space(0, 1))\n",
    "print(parameters.space({'a': (0, 1), 'b': (1, 2)}))"
   ]
  },
  {
   "cell_type": "markdown",
   "id": "2f596432",
   "metadata": {
    "slideshow": {
     "slide_type": "subslide"
    }
   },
   "source": [
    "**Sampling a ParameterSpace**"
   ]
  },
  {
   "cell_type": "code",
   "execution_count": null,
   "id": "bce5bb37",
   "metadata": {
    "slideshow": {
     "slide_type": "-"
    }
   },
   "outputs": [],
   "source": [
    "parameter_space = parameters.space(0, 1)\n",
    "parameter_space.sample_uniformly(2)"
   ]
  },
  {
   "cell_type": "code",
   "execution_count": null,
   "id": "7fff5f4a",
   "metadata": {
    "slideshow": {
     "slide_type": "fragment"
    }
   },
   "outputs": [],
   "source": [
    "parameter_space.sample_randomly(2)"
   ]
  },
  {
   "cell_type": "code",
   "execution_count": null,
   "id": "09698db1",
   "metadata": {},
   "outputs": [],
   "source": [
    "parameter_space.sample_randomly()"
   ]
  },
  {
   "cell_type": "markdown",
   "id": "e5628015",
   "metadata": {
    "slideshow": {
     "slide_type": "subslide"
    }
   },
   "source": [
    "### ParameterFunctional\n",
    "\n",
    "- A mapping from `Mus` to $\\mathbb{R}$ or $\\mathbb{C}$.\n",
    "- Can be used as coefficients of `LincombOperator` or `SelectionOperator`\n",
    "- Immutable."
   ]
  },
  {
   "cell_type": "code",
   "execution_count": null,
   "id": "587be4af",
   "metadata": {},
   "outputs": [],
   "source": [
    "mu = parameters.parse([1,2,3])\n",
    "mu"
   ]
  },
  {
   "cell_type": "markdown",
   "id": "f7263678",
   "metadata": {},
   "source": [
    "**ProjectionParameterFunctional**"
   ]
  },
  {
   "cell_type": "code",
   "execution_count": null,
   "id": "6f611318",
   "metadata": {
    "slideshow": {
     "slide_type": "fragment"
    }
   },
   "outputs": [],
   "source": [
    "from pymor.parameters.functionals import ProjectionParameterFunctional\n",
    " \n",
    "f1 = ProjectionParameterFunctional('b', size=2, index=0)\n",
    "f1(mu)"
   ]
  },
  {
   "cell_type": "markdown",
   "id": "091f950a",
   "metadata": {},
   "source": [
    "**ExpressionParameterFunctional**"
   ]
  },
  {
   "cell_type": "code",
   "execution_count": null,
   "id": "3026c823",
   "metadata": {
    "slideshow": {
     "slide_type": "fragment"
    }
   },
   "outputs": [],
   "source": [
    "from pymor.parameters.functionals import ExpressionParameterFunctional\n",
    "\n",
    "f3 = ExpressionParameterFunctional('b[0]**2', parameters)\n",
    "f3(mu)"
   ]
  },
  {
   "cell_type": "markdown",
   "id": "88d35af6",
   "metadata": {},
   "source": [
    "**GenericParameterFunctional**"
   ]
  },
  {
   "cell_type": "code",
   "execution_count": null,
   "id": "24874cee",
   "metadata": {
    "slideshow": {
     "slide_type": "fragment"
    }
   },
   "outputs": [],
   "source": [
    "from pymor.parameters.functionals import GenericParameterFunctional\n",
    "\n",
    "f2 = GenericParameterFunctional(lambda mu: mu['b'][0]**2, parameters)\n",
    "f2(mu)"
   ]
  },
  {
   "cell_type": "markdown",
   "id": "4ac8f8b7",
   "metadata": {
    "slideshow": {
     "slide_type": "subslide"
    }
   },
   "source": [
    "### Time-Dependent Parameter Values"
   ]
  },
  {
   "cell_type": "markdown",
   "id": "caa678f7",
   "metadata": {},
   "source": [
    "`Mus` can also have time dependent componenents:"
   ]
  },
  {
   "cell_type": "code",
   "execution_count": null,
   "id": "0b4b67f4",
   "metadata": {
    "slideshow": {
     "slide_type": "-"
    }
   },
   "outputs": [],
   "source": [
    "print(parameters)\n",
    "mu = parameters.parse([1, 'sin(t)', 0])\n",
    "mu"
   ]
  },
  {
   "cell_type": "markdown",
   "id": "70a3446b",
   "metadata": {},
   "source": [
    "Time-dependent components do not show up as parameters, since a time has to be prescribed first to obtain actual values:"
   ]
  },
  {
   "cell_type": "code",
   "execution_count": null,
   "id": "b35ccd1d",
   "metadata": {},
   "outputs": [],
   "source": [
    "mu.parameters()"
   ]
  },
  {
   "cell_type": "code",
   "execution_count": null,
   "id": "b92b423e",
   "metadata": {
    "slideshow": {
     "slide_type": "fragment"
    }
   },
   "outputs": [],
   "source": [
    "mu['b']"
   ]
  },
  {
   "cell_type": "code",
   "execution_count": null,
   "id": "27341b83",
   "metadata": {
    "slideshow": {
     "slide_type": "fragment"
    }
   },
   "outputs": [],
   "source": [
    "mu_pi_half = mu.at_time(np.pi/2)\n",
    "mu_pi_half"
   ]
  },
  {
   "cell_type": "code",
   "execution_count": null,
   "id": "9dfb51d1",
   "metadata": {
    "slideshow": {
     "slide_type": "fragment"
    }
   },
   "outputs": [],
   "source": [
    "print(mu_pi_half.parameters())\n",
    "print(mu_pi_half['b'], mu_pi_half['t'])"
   ]
  },
  {
   "cell_type": "markdown",
   "id": "2b96fe09",
   "metadata": {
    "slideshow": {
     "slide_type": "slide"
    }
   },
   "source": [
    "### Parametric Operators"
   ]
  },
  {
   "cell_type": "markdown",
   "id": "417e0b82",
   "metadata": {
    "slideshow": {
     "slide_type": "fragment"
    }
   },
   "source": [
    "`ParametricObjects` like `Operators` automatically inherit parameters from their `__init__` arguments:"
   ]
  },
  {
   "cell_type": "code",
   "execution_count": null,
   "id": "13065ee6",
   "metadata": {
    "slideshow": {
     "slide_type": "-"
    }
   },
   "outputs": [],
   "source": [
    "from pymor.operators.numpy import NumpyMatrixOperator\n",
    "Aop = NumpyMatrixOperator(np.ones((3,3)))\n",
    "Bop = NumpyMatrixOperator(np.eye(3))\n",
    "\n",
    "Pop = Aop + ProjectionParameterFunctional('p') * Bop\n",
    "Pop"
   ]
  },
  {
   "cell_type": "markdown",
   "id": "ea94db86",
   "metadata": {
    "slideshow": {
     "slide_type": "subslide"
    }
   },
   "source": [
    "**Parameters of an Operator**"
   ]
  },
  {
   "cell_type": "code",
   "execution_count": null,
   "id": "c9a61fa9",
   "metadata": {
    "slideshow": {
     "slide_type": "-"
    }
   },
   "outputs": [],
   "source": [
    "Pop.parameters"
   ]
  },
  {
   "cell_type": "markdown",
   "id": "ff5ea165",
   "metadata": {},
   "source": [
    "As a shorthand, we can check if an `Operator` depends on parameters using:"
   ]
  },
  {
   "cell_type": "code",
   "execution_count": null,
   "id": "3551d87a",
   "metadata": {
    "slideshow": {
     "slide_type": "-"
    }
   },
   "outputs": [],
   "source": [
    "Pop.parametric"
   ]
  },
  {
   "cell_type": "markdown",
   "id": "3c4aec7e",
   "metadata": {
    "slideshow": {
     "slide_type": "subslide"
    }
   },
   "source": [
    "**Interface methods of Parametric Operators**\n",
    "\n",
    "For parametric operators, we need to pass a `Mu` as the `mu` argument:"
   ]
  },
  {
   "cell_type": "code",
   "execution_count": null,
   "id": "aa0c3479",
   "metadata": {
    "slideshow": {
     "slide_type": "-"
    }
   },
   "outputs": [],
   "source": [
    "V = Pop.source.ones(1)\n",
    "Pop.apply(V, mu=Pop.parameters.parse(0))"
   ]
  },
  {
   "cell_type": "code",
   "execution_count": null,
   "id": "d737c3f3",
   "metadata": {
    "slideshow": {
     "slide_type": "-"
    }
   },
   "outputs": [],
   "source": [
    "Pop.apply(V, mu=Pop.parameters.parse(1))"
   ]
  },
  {
   "cell_type": "markdown",
   "id": "1f981331",
   "metadata": {
    "slideshow": {
     "slide_type": "fragment"
    }
   },
   "source": [
    "We need to pass a `Mu` object."
   ]
  },
  {
   "cell_type": "code",
   "execution_count": null,
   "id": "d6c5eaf1",
   "metadata": {
    "slideshow": {
     "slide_type": "-"
    }
   },
   "outputs": [],
   "source": [
    "Pop.apply(V, mu=1)"
   ]
  },
  {
   "cell_type": "markdown",
   "id": "e28278e5",
   "metadata": {},
   "source": [
    "The same is true for `apply_adjoint`, `apply_inverse`, `apply_inverse_adjoint`, `as_source_array`, `as_range_array`, `jacobian`, `assemble`."
   ]
  },
  {
   "cell_type": "markdown",
   "id": "cfca11b1",
   "metadata": {
    "slideshow": {
     "slide_type": "subslide"
    }
   },
   "source": [
    "### \"Parametric VectorArrays\"\n",
    "\n",
    "`VectorArrays` are just data. They cannot depend on a parameter.\n",
    "A way to represent parameter-dependent vectors is via a parametric `Operator`,\n",
    "e.g., using `VectorArrayOperators`."
   ]
  },
  {
   "cell_type": "code",
   "execution_count": null,
   "id": "b5bfc20b",
   "metadata": {
    "slideshow": {
     "slide_type": "fragment"
    }
   },
   "outputs": [],
   "source": [
    "from pymor.operators.constructions import VectorArrayOperator\n",
    "from pymor.vectorarrays.numpy import NumpyVectorSpace\n",
    "\n",
    "space = NumpyVectorSpace(3)\n",
    "U = space.ones()\n",
    "V = space.full(2.)\n",
    "\n",
    "Uop = VectorArrayOperator(U)\n",
    "Vop = VectorArrayOperator(V)\n",
    "\n",
    "print(Uop)\n",
    "print(Vop)"
   ]
  },
  {
   "cell_type": "code",
   "execution_count": null,
   "id": "9f0928d5",
   "metadata": {
    "slideshow": {
     "slide_type": "fragment"
    }
   },
   "outputs": [],
   "source": [
    "UVop = Uop + ProjectionParameterFunctional('p') * Vop\n",
    "print(UVop)"
   ]
  },
  {
   "cell_type": "code",
   "execution_count": null,
   "id": "b867634d",
   "metadata": {
    "slideshow": {
     "slide_type": "fragment"
    }
   },
   "outputs": [],
   "source": [
    "print(UVop.as_range_array(mu=UVop.parameters.parse(5)))"
   ]
  },
  {
   "cell_type": "markdown",
   "id": "412df540",
   "metadata": {
    "slideshow": {
     "slide_type": "slide"
    }
   },
   "source": [
    "### Parametric Models\n",
    "\n",
    "If a `Model` contains any parametric `Operator`, the `Model` will be parametric as well."
   ]
  },
  {
   "cell_type": "code",
   "execution_count": null,
   "id": "34120db7",
   "metadata": {
    "slideshow": {
     "slide_type": "fragment"
    }
   },
   "outputs": [],
   "source": [
    "from pymor.models.iosys import LTIModel\n",
    "A = np.random.rand(10, 10)\n",
    "B = np.ones((10, 1))\n",
    "C = np.ones((1, 10))\n",
    "fom = LTIModel.from_matrices(A, B, C)\n",
    "\n",
    "fom"
   ]
  },
  {
   "cell_type": "code",
   "execution_count": null,
   "id": "337babdc",
   "metadata": {
    "slideshow": {
     "slide_type": "fragment"
    }
   },
   "outputs": [],
   "source": [
    "fom.parameters"
   ]
  },
  {
   "cell_type": "code",
   "execution_count": null,
   "id": "e239df4a",
   "metadata": {
    "slideshow": {
     "slide_type": "subslide"
    }
   },
   "outputs": [],
   "source": [
    "Pop = fom.A + ProjectionParameterFunctional('p') * fom.A\n",
    "fom = fom.with_(A=Pop)"
   ]
  },
  {
   "cell_type": "code",
   "execution_count": null,
   "id": "a84a3942",
   "metadata": {
    "slideshow": {
     "slide_type": "fragment"
    }
   },
   "outputs": [],
   "source": [
    "fom.parameters"
   ]
  },
  {
   "cell_type": "markdown",
   "id": "36f502da",
   "metadata": {
    "jp-MarkdownHeadingCollapsed": true,
    "slideshow": {
     "slide_type": "subslide"
    }
   },
   "source": [
    "## Immutable objects"
   ]
  },
  {
   "cell_type": "markdown",
   "id": "a62a030a",
   "metadata": {
    "slideshow": {
     "slide_type": "subslide"
    }
   },
   "source": [
    "* `ImmutableObjects` are locked after their `__init__` method.\n",
    "* Private attributes (starting with `_`) can still be written. Use with care! Changing them may not affect mathematical behavior of the object.\n",
    "* The `with_` method creates a shallow copy of the object by providing new values for some of its `__init__` arguments.\n",
    "* Using `with_` is generally cheap.\n",
    "* A useful idiom is calling `self.__auto_init(locals())` to save all `__init__` arguments as attributes."
   ]
  },
  {
   "cell_type": "code",
   "execution_count": null,
   "id": "ed05d077",
   "metadata": {
    "slideshow": {
     "slide_type": "fragment"
    }
   },
   "outputs": [],
   "source": [
    "from pymor.core.base import ImmutableObject\n",
    "\n",
    "class MyImmutableObject(ImmutableObject):\n",
    "    def __init__(self, a, b):\n",
    "        self.__auto_init(locals()) # equivalent to self.a = a; self.b = b\n",
    "        self.c = a + b"
   ]
  },
  {
   "cell_type": "code",
   "execution_count": null,
   "id": "22364836",
   "metadata": {},
   "outputs": [],
   "source": [
    "o = MyImmutableObject(1, 2)"
   ]
  },
  {
   "cell_type": "code",
   "execution_count": null,
   "id": "12fe0747",
   "metadata": {},
   "outputs": [],
   "source": [
    "o.a"
   ]
  },
  {
   "cell_type": "code",
   "execution_count": null,
   "id": "f94f504c",
   "metadata": {},
   "outputs": [],
   "source": [
    "o.a = 99"
   ]
  },
  {
   "cell_type": "code",
   "execution_count": null,
   "id": "414949a7",
   "metadata": {},
   "outputs": [],
   "source": [
    "o._d = 99"
   ]
  },
  {
   "cell_type": "code",
   "execution_count": null,
   "id": "38d9cf2a",
   "metadata": {},
   "outputs": [],
   "source": [
    "o.with_()"
   ]
  },
  {
   "cell_type": "code",
   "execution_count": null,
   "id": "aaa6b444",
   "metadata": {},
   "outputs": [],
   "source": [
    "o.with_(b=32)"
   ]
  },
  {
   "cell_type": "code",
   "execution_count": null,
   "id": "aaec8cc5",
   "metadata": {},
   "outputs": [],
   "source": [
    "o.with_(c=8)"
   ]
  },
  {
   "cell_type": "markdown",
   "id": "c5a1fbf1",
   "metadata": {
    "jp-MarkdownHeadingCollapsed": true
   },
   "source": [
    "## pyMOR defaults"
   ]
  },
  {
   "cell_type": "markdown",
   "id": "51d01040",
   "metadata": {},
   "source": [
    "- Mechanism for setting global default values for optional function arguments.\n",
    "- Used a lot throughout pyMOR to set default tolerances, enable checks, etc."
   ]
  },
  {
   "cell_type": "markdown",
   "id": "4e41727c",
   "metadata": {},
   "source": [
    "**Listing all defaults**"
   ]
  },
  {
   "cell_type": "code",
   "execution_count": null,
   "id": "46dcf0b3",
   "metadata": {},
   "outputs": [],
   "source": [
    "from pymor.core.defaults import print_defaults\n",
    "print_defaults()"
   ]
  },
  {
   "cell_type": "markdown",
   "id": "be14ce4a",
   "metadata": {},
   "source": [
    "**Saving/loading defaults from file**"
   ]
  },
  {
   "cell_type": "code",
   "execution_count": null,
   "id": "543668a6",
   "metadata": {},
   "outputs": [],
   "source": [
    "from pymor.core.defaults import write_defaults_to_file\n",
    "write_defaults_to_file()"
   ]
  },
  {
   "cell_type": "markdown",
   "id": "022aeb10",
   "metadata": {},
   "source": [
    "- Defaults are automatically loaded from `pymor_defaults.py` in current working directory when pyMOR is imported.\n",
    "- An alternate path can be prescribed using the `PYMOR_DEFAULTS` environment variable.\n",
    "- Defaults can also be loaded using `load_defaults_from_file`."
   ]
  },
  {
   "cell_type": "markdown",
   "id": "3fa470b0",
   "metadata": {},
   "source": [
    "**Programmatically setting defaults**"
   ]
  },
  {
   "cell_type": "code",
   "execution_count": null,
   "id": "dda1e6f2",
   "metadata": {
    "slideshow": {
     "slide_type": "fragment"
    }
   },
   "outputs": [],
   "source": [
    "from pymor.core.defaults import set_defaults\n",
    "\n",
    "set_defaults({'pymor.bindings.scipy.apply_inverse.default_solver': 'scipy_bicgstab_spilu'})"
   ]
  },
  {
   "cell_type": "markdown",
   "id": "80c241b6",
   "metadata": {
    "slideshow": {
     "slide_type": "subslide"
    }
   },
   "source": [
    "**Writing functions with defaults**"
   ]
  },
  {
   "cell_type": "code",
   "execution_count": null,
   "id": "74061825",
   "metadata": {
    "slideshow": {
     "slide_type": "fragment"
    }
   },
   "outputs": [],
   "source": [
    "from pymor.core.defaults import defaults\n",
    "\n",
    "@defaults('tolerance')\n",
    "def some_algorithm(x, y, tolerance=1e-5):\n",
    "    print(tolerance)\n",
    "\n",
    "def test_some_algorithm(x, y, tolerance_for_some_algorithm=None):\n",
    "    some_algorithm(x, y, tolerance=tolerance_for_some_algorithm)"
   ]
  },
  {
   "cell_type": "code",
   "execution_count": null,
   "id": "2b3eb808",
   "metadata": {
    "slideshow": {
     "slide_type": "fragment"
    }
   },
   "outputs": [],
   "source": [
    "test_some_algorithm(1, 2, 42)\n",
    "test_some_algorithm(1, 2)\n",
    "set_defaults({'__main__.some_algorithm.tolerance': 99})\n",
    "test_some_algorithm(1, 2)"
   ]
  },
  {
   "cell_type": "markdown",
   "id": "6b9f7c29",
   "metadata": {
    "jp-MarkdownHeadingCollapsed": true
   },
   "source": [
    "## RuleTables"
   ]
  },
  {
   "cell_type": "markdown",
   "id": "dccf0955",
   "metadata": {},
   "source": [
    "- Dispatch mechanism for algorithms based on input type and data.\n",
    "- Used for `project`, `preassemble`, `assemble_lincomb`, `estimate_image`, `expand`, `contract`, `to_matrix`."
   ]
  },
  {
   "cell_type": "markdown",
   "id": "7cb849c0",
   "metadata": {},
   "source": [
    "### Example: assemble_lincomb\n",
    "\n",
    "(called in `LincombOperator.assemble`)"
   ]
  },
  {
   "cell_type": "code",
   "execution_count": null,
   "id": "2e80beb8",
   "metadata": {
    "slideshow": {
     "slide_type": "fragment"
    }
   },
   "outputs": [],
   "source": [
    "from pymor.algorithms.lincomb import assemble_lincomb\n",
    "from pymor.tools.formatsrc import print_source\n",
    "\n",
    "print_source(assemble_lincomb)"
   ]
  },
  {
   "cell_type": "code",
   "execution_count": null,
   "id": "53a86fca",
   "metadata": {
    "slideshow": {
     "slide_type": "fragment"
    }
   },
   "outputs": [],
   "source": [
    "from pymor.algorithms.lincomb import AssembleLincombRules\n",
    "AssembleLincombRules"
   ]
  },
  {
   "cell_type": "code",
   "execution_count": null,
   "id": "e42ad8a9",
   "metadata": {},
   "outputs": [],
   "source": [
    "AssembleLincombRules[1]"
   ]
  },
  {
   "cell_type": "markdown",
   "id": "00cd7d53",
   "metadata": {
    "slideshow": {
     "slide_type": "subslide"
    }
   },
   "source": [
    "### project"
   ]
  },
  {
   "cell_type": "code",
   "execution_count": null,
   "id": "0d637ee4",
   "metadata": {
    "slideshow": {
     "slide_type": "fragment"
    }
   },
   "outputs": [],
   "source": [
    "from pymor.algorithms.projection import project\n",
    "print_source(project)"
   ]
  },
  {
   "cell_type": "code",
   "execution_count": null,
   "id": "68ab6a6e",
   "metadata": {
    "slideshow": {
     "slide_type": "fragment"
    }
   },
   "outputs": [],
   "source": [
    "from pymor.algorithms.projection import ProjectRules\n",
    "ProjectRules"
   ]
  },
  {
   "cell_type": "code",
   "execution_count": null,
   "id": "417ec76f",
   "metadata": {},
   "outputs": [],
   "source": [
    "ProjectRules[2]"
   ]
  },
  {
   "cell_type": "markdown",
   "id": "9f53cf5d",
   "metadata": {
    "jp-MarkdownHeadingCollapsed": true,
    "slideshow": {
     "slide_type": "subslide"
    }
   },
   "source": [
    "## Caching"
   ]
  },
  {
   "cell_type": "markdown",
   "id": "2381cd05",
   "metadata": {
    "jp-MarkdownHeadingCollapsed": true,
    "slideshow": {
     "slide_type": "subslide"
    }
   },
   "source": [
    "- Save results of long-running computations in memory / on disk.\n",
    "- When method is called twice with same arguments, cached value is returned.\n",
    "- Depends on immutability of underlying object.\n",
    "- Used for `Model` interface methods (`solve`, `output`, `compute`, etc.), LTI model related quantities (Gramians, norms, etc.), built-in `Grid` interface methods."
   ]
  },
  {
   "cell_type": "markdown",
   "id": "660115ce",
   "metadata": {},
   "source": [
    "### Example: cached model evaluation"
   ]
  },
  {
   "cell_type": "code",
   "execution_count": null,
   "id": "aa54193e",
   "metadata": {},
   "outputs": [],
   "source": [
    "from pymor.models.examples import thermal_block_example\n",
    "m = thermal_block_example()"
   ]
  },
  {
   "cell_type": "code",
   "execution_count": null,
   "id": "fe7e2acf",
   "metadata": {},
   "outputs": [],
   "source": [
    "%time _ = m.solve([1,2,3,4])\n",
    "%time _ = m.solve([1,2,3,4])"
   ]
  },
  {
   "cell_type": "code",
   "execution_count": null,
   "id": "22071a8e",
   "metadata": {},
   "outputs": [],
   "source": [
    "m.enable_caching('memory')  # or 'disk'\n",
    "%time _ = m.solve([1,2,3,4])\n",
    "%time _ = m.solve([1,2,3,4])"
   ]
  },
  {
   "cell_type": "markdown",
   "id": "b25c71a5",
   "metadata": {},
   "source": [
    "The 'persistent' cache region is preserved over multiple program runs. A unique identifier for the model has to be set."
   ]
  },
  {
   "cell_type": "code",
   "execution_count": null,
   "id": "0cdef738",
   "metadata": {},
   "outputs": [],
   "source": [
    "m.enable_caching('persistent', cache_id='my_model_that_wont_change')  # or 'disk'\n",
    "%time _ = m.solve([1,2,3,4])\n",
    "%time _ = m.solve([1,2,3,4])"
   ]
  },
  {
   "cell_type": "markdown",
   "id": "765856c4",
   "metadata": {},
   "source": [
    "### Implementing a class with cached methods"
   ]
  },
  {
   "cell_type": "code",
   "execution_count": null,
   "id": "2668596e",
   "metadata": {
    "slideshow": {
     "slide_type": "fragment"
    }
   },
   "outputs": [],
   "source": [
    "from pymor.core.cache import CacheableObject, cached\n",
    "\n",
    "class MyCachedObj(CacheableObject):\n",
    "\n",
    "    cache_region = 'memory'  # default cache region. 'None' if not specified\n",
    "\n",
    "    @cached\n",
    "    def expensive_evaluation(self, x):\n",
    "        import time\n",
    "        time.sleep(x)\n",
    "        return x**2"
   ]
  },
  {
   "cell_type": "code",
   "execution_count": null,
   "id": "567ca2f4",
   "metadata": {},
   "outputs": [],
   "source": [
    "o = MyCachedObj()\n",
    "%time o.expensive_evaluation(2)\n",
    "%time o.expensive_evaluation(4)\n",
    "%time o.expensive_evaluation(2)"
   ]
  }
 ],
 "metadata": {
  "jupytext": {
   "default_lexer": "ipython3",
   "formats": "md:myst,ipynb"
  },
  "kernelspec": {
   "display_name": "Python 3 (ipykernel)",
   "language": "python",
   "name": "python3"
  },
  "language_info": {
   "codemirror_mode": {
    "name": "ipython",
    "version": 3
   },
   "file_extension": ".py",
   "mimetype": "text/x-python",
   "name": "python",
   "nbconvert_exporter": "python",
   "pygments_lexer": "ipython3",
   "version": "3.13.5"
  }
 },
 "nbformat": 4,
 "nbformat_minor": 5
}
