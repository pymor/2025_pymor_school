{
 "cells": [
  {
   "cell_type": "markdown",
   "id": "2dc34ab4",
   "metadata": {
    "slideshow": {
     "slide_type": "slide"
    }
   },
   "source": [
    "# Head-related Transfer Function Modelling from Data\n",
    "\n",
    "\n",
    "## Overview\n",
    "- Data: Head-related Transfer Functions\n",
    "- Theory: Data-driven Balanced Truncation (= Eigensystem Realization Algorithm)\n",
    "- Practice: Implementation in pyMOR"
   ]
  },
  {
   "cell_type": "markdown",
   "id": "83bd54e2",
   "metadata": {
    "slideshow": {
     "slide_type": "slide"
    }
   },
   "source": [
    "## Head-related Transfer Functions (HRTFs)\n",
    "- characterizes how the ear receives sound from a point in space (in free field conditions)\n",
    "- HRTF encodes the head and pinnae geometries\n",
    "- conventionally, it depends on angles of incident (spherical coordinates)"
   ]
  },
  {
   "cell_type": "markdown",
   "id": "c5e2755a",
   "metadata": {
    "slideshow": {
     "slide_type": "slide"
    }
   },
   "source": [
    "### MIT KEMAR dummy head dataset\n",
    "[Source](https://sound.media.mit.edu/resources/KEMAR.html)"
   ]
  },
  {
   "cell_type": "code",
   "execution_count": null,
   "id": "580d4cbe",
   "metadata": {
    "slideshow": {
     "slide_type": "slide"
    }
   },
   "outputs": [],
   "source": [
    "import numpy as np\n",
    "\n",
    "data = np.load('files/KEMAR.npy', allow_pickle=True).item(0)\n",
    "ir = data['ir']\n",
    "fs = data['fs'][0]"
   ]
  },
  {
   "cell_type": "code",
   "execution_count": null,
   "id": "6306d058",
   "metadata": {
    "slideshow": {
     "slide_type": "slide"
    }
   },
   "outputs": [],
   "source": [
    "n, p, m = ir.shape  # n: number of samples, p: number of outputs, m: number of inputs\n",
    "fs  # sampling rate\n",
    "\n",
    "print(f'number of inputs:\\t{m}')\n",
    "print(f'number of outputs:\\t{p}')\n",
    "print(f'number of samples:\\t{n}')\n",
    "print(f'sampling rate:\\t\\t{fs}')\n",
    "print(f'sampling duration:\\t{1000*n/fs:.2f} ms')"
   ]
  },
  {
   "cell_type": "code",
   "execution_count": null,
   "id": "505f0b1e",
   "metadata": {
    "slideshow": {
     "slide_type": "slide"
    }
   },
   "outputs": [],
   "source": [
    "import matplotlib.pyplot as plt\n",
    "plt.rcParams[\"figure.figsize\"] = (12, 4.5)"
   ]
  },
  {
   "cell_type": "code",
   "execution_count": null,
   "id": "2233d3b3",
   "metadata": {
    "slideshow": {
     "slide_type": "slide"
    }
   },
   "outputs": [],
   "source": [
    "input_idx = 469\n",
    "\n",
    "t = np.arange(ir.shape[0])/fs * 1000\n",
    "\n",
    "fig, axes = plt.subplots(1, 2)\n",
    "fig.suptitle(f'Head-Related Impulse Response (input {input_idx + 1})')\n",
    "for i, ax in enumerate(axes):\n",
    "    ax.plot(t, ir[:, i, input_idx], c='grey', marker='o', mec='k', markersize='3')\n",
    "    ax.set(xlabel=r'Time (ms)', ylabel='Amplitude', title=f'{\"left\" if i == 0 else \"right\"} ear', xlim=(t[0], t[-1]), ylim=(-0.75, 0.75))"
   ]
  },
  {
   "cell_type": "code",
   "execution_count": null,
   "id": "56b0a935",
   "metadata": {
    "slideshow": {
     "slide_type": "slide"
    }
   },
   "outputs": [],
   "source": [
    "fig = plt.figure(figsize=(10, 8))\n",
    "ax = fig.add_subplot(projection='3d')\n",
    "\n",
    "ax.scatter(*np.squeeze(data['rpos']).T, color='g', depthshade=False, label='receiver location (ears)')\n",
    "\n",
    "azim = (data['spos'][:, 0]) * np.pi / 180\n",
    "elev = (data['spos'][:, 1] - 90) * np.pi / 180\n",
    "r = data['spos'][:, 2]\n",
    "x, y, z = r*np.sin(elev)*np.cos(azim), r*np.sin(elev)*np.sin(azim), r*np.cos(elev)\n",
    "\n",
    "center_idx = (azim == 0) & (elev == -np.pi/2)\n",
    "plot_idx = ~center_idx\n",
    "plot_idx[input_idx] = False\n",
    "ax.scatter(x[plot_idx], y[plot_idx], z[plot_idx], label='source location')\n",
    "ax.scatter(x[center_idx], y[center_idx], z[center_idx], color='r', marker='s', label='center', depthshade=False)\n",
    "ax.scatter(x[input_idx], y[input_idx], z[input_idx], color='m', marker='s', label=f'input {input_idx + 1}', depthshade=False)\n",
    "ax.view_init(azim=190, elev=5)\n",
    "ax.set(xlim=(-1.5, 1.5), ylim=(-1.5, 1.5), zlim=(-1.5, 1.5), title='Measurement Geometry', xlabel='x', ylabel='y', zlabel='z')\n",
    "ax.set_aspect('equal')\n",
    "fig.tight_layout()\n",
    "_ = fig.legend()"
   ]
  },
  {
   "cell_type": "markdown",
   "id": "3402f1a6",
   "metadata": {
    "slideshow": {
     "slide_type": "slide"
    }
   },
   "source": [
    "## Aim: Identify a reduced order LTI-system from the measurements\n",
    "Consider discrete-time state equations:\n",
    "\n",
    "$$\n",
    "\\begin{align}\n",
    "  x_{k + 1} & = A x_k + B u_k \\\\\n",
    "  y_k & = C x_k + D u_k,\n",
    "\\end{align}\n",
    "$$\n",
    "\n",
    "with $A \\in \\mathbb{R}^{n \\times n}$, $B \\in \\mathbb{R}^{n \\times m}$, $C \\in \\mathbb{R}^{p \\times n}$, $D \\in \\mathbb{R}^{p \\times m}$,\n",
    "where $m \\in \\mathbb{N}$ is the number of inputs, $p \\in \\mathbb{N}$ the number of outputs and $n \\in \\mathbb{N}$ the state dimension."
   ]
  },
  {
   "cell_type": "markdown",
   "id": "922a18e4",
   "metadata": {
    "slideshow": {
     "slide_type": "slide"
    }
   },
   "source": [
    "### Recap: Balanced Truncation (square-root version)\n",
    "\n",
    "1. Compute Cholesky factors\n",
    "\n",
    "   $$\n",
    "   \\begin{align}\n",
    "     Z_P Z_P^T & = P \\\\\n",
    "     Z_Q Z_Q^T & = Q\n",
    "   \\end{align}\n",
    "   $$\n",
    "\n",
    "   of the solutions of the Stein (discrete-time Lyapunov) equations\n",
    "\n",
    "   $$\n",
    "   \\begin{align}\n",
    "     A P A^T - P - B B^T & = 0 \\\\\n",
    "     A^T Q A - Q + C^T C & = 0\n",
    "   \\end{align}\n",
    "   $$\n",
    "2. Compute balancing transformations from a (truncated) SVD of the product of factors\n",
    "\n",
    "   $$\n",
    "   \\begin{align}\\label{eq:hsv}\\tag{1}\n",
    "     Z_P^T Z_Q = U \\Sigma V^T =\n",
    "     \\begin{bmatrix}\n",
    "       U_r & U_\\ast\n",
    "     \\end{bmatrix}\n",
    "     \\begin{bmatrix}\n",
    "       \\Sigma_r & 0 \\\\\n",
    "       0 & \\Sigma_\\ast\n",
    "      \\end{bmatrix}\n",
    "      \\begin{bmatrix}\n",
    "        V_r^T \\\\\n",
    "        V_\\ast^T\n",
    "      \\end{bmatrix}\n",
    "   \\end{align}\n",
    "   $$\n",
    "\n",
    "   Form transformations\n",
    "\n",
    "   $$\n",
    "   \\begin{align}\n",
    "     T_1 & = Z_Q V \\Sigma^{-1/2} \\\\\n",
    "     T_2 & = Z_P U \\Sigma^{-1/2}\n",
    "   \\end{align}\n",
    "   $$\n",
    "\n",
    "   that balance the system, i.e.\n",
    "\n",
    "   $$\n",
    "   \\begin{equation}\n",
    "     T_1^T P T_1 = T_2^T Q T_2 = \\Sigma,\n",
    "   \\end{equation}\n",
    "   $$\n",
    "3. Transform the system with balancing transformations\n",
    "\n",
    "   $$\n",
    "   \\begin{align}\n",
    "     T_1^T A T_2 & =\n",
    "     \\begin{bmatrix}\n",
    "       A_{1,1} & A_{1,2} \\\\\n",
    "       A_{2,1} & A_{2,2}\n",
    "     \\end{bmatrix}\n",
    "     &\n",
    "     T_1^T B & =\n",
    "     \\begin{bmatrix}\n",
    "       B_1 & B_2\n",
    "     \\end{bmatrix}\n",
    "     &&\n",
    "     C T_2 =\n",
    "     \\begin{bmatrix}\n",
    "       C_1 \\\\\n",
    "       C_2\n",
    "     \\end{bmatrix}\n",
    "   \\end{align}\n",
    "   $$\n",
    "\n",
    "   and truncate such that the reduced system is given by\n",
    "\n",
    "   $$\n",
    "   \\begin{align}\n",
    "     \\left(A_{1,1}, ~B_1, ~C_1, ~D\\right)\n",
    "     = \\left(\\Sigma_r^{-1/2} V_r^T Z_Q^T A Z_P U \\Sigma^{-1/2},\n",
    "       ~\\Sigma_r^{-1/2} V_r^T Z_Q^T B,\n",
    "       ~C Z_P U \\Sigma^{-1/2},\n",
    "       ~D\\right)\n",
    "   \\end{align}\n",
    "   $$"
   ]
  },
  {
   "cell_type": "markdown",
   "id": "7b522db0",
   "metadata": {
    "slideshow": {
     "slide_type": "slide"
    }
   },
   "source": [
    "### Markov parameters\n",
    "\n",
    "\\begin{equation}\n",
    "h_0=D,\\qquad h_i=\\left.\\frac{\\mathrm{d}^i}{\\mathrm{d}s^i}H(s)\\,\\right|_{s=\\infty}=CA^{i-1}B\n",
    "\\end{equation}"
   ]
  },
  {
   "cell_type": "markdown",
   "id": "ec615f16",
   "metadata": {
    "slideshow": {
     "slide_type": "slide"
    }
   },
   "source": [
    "### The Hankel Operator\n",
    "The Hankel matrix of a system is defined as\n",
    "\n",
    "\\begin{equation}\n",
    "  \\mathcal{H}=\n",
    "  \\begin{bmatrix}\n",
    "    CB & CAB & \\cdots & CA^{s-1}B\\\\\n",
    "    CAB & CA^2B &\\cdots & CA^sB \\\\\n",
    "    \\vdots & \\vdots &  &\\vdots\\\\\n",
    "    CA^{s-1}B & CA^{s} & \\cdots & CA^{2s-2}B\n",
    "  \\end{bmatrix}=\n",
    "  \\underbrace{\\begin{bmatrix}\n",
    "                C\\\\\n",
    "                \\vdots\\\\\n",
    "                CA^{s-1}\n",
    "              \\end{bmatrix}}_{=:\\mathcal{O}}\n",
    "  \\underbrace{\n",
    "  \\begin{bmatrix}\n",
    "    B&\\cdots&A^{s-1}B\n",
    "  \\end{bmatrix}}_{=: \\mathcal{C}}.\n",
    "\\end{equation}\n",
    "The singular values of $\\mathcal{H}$ are called the Hankel singular values."
   ]
  },
  {
   "cell_type": "markdown",
   "id": "c01d4807",
   "metadata": {
    "slideshow": {
     "slide_type": "slide"
    }
   },
   "source": [
    "## A data-driven formulation\n",
    "\n",
    "- The diagonal entries of $\\Sigma$ from (1) are equivalent to the Hankel singular values:\n",
    "\n",
    "  $$\n",
    "  Z_P Z_P^T Z_Q Z_Q^T\n",
    "  = P Q\n",
    "  = \\mathcal{C} \\mathcal{C}^T \\mathcal{O}^T \\mathcal{O}\n",
    "  $$\n",
    "- Observe that $\\mathcal{H}$ can be constructed entirely from data (non-intrusively)"
   ]
  },
  {
   "cell_type": "markdown",
   "id": "aed78a04",
   "metadata": {
    "slideshow": {
     "slide_type": "slide"
    }
   },
   "source": [
    "### Eigensystem Realization Algorithm\n",
    "**Input:** Impulse response (Markov parameter) measurements $h$\n",
    "1. Form Hankel matrix\n",
    "2. Compute SVD\n",
    "\n",
    "   $$\n",
    "   \\mathcal{H} = U \\Sigma V^T =\n",
    "   \\begin{bmatrix}\n",
    "     U_r & U_\\ast\n",
    "   \\end{bmatrix}\n",
    "   \\begin{bmatrix}\n",
    "     \\Sigma_r & 0 \\\\\n",
    "     0 & \\Sigma_\\ast\n",
    "   \\end{bmatrix}\n",
    "   \\begin{bmatrix}\n",
    "     V_r^T \\\\\n",
    "     V_\\ast^T\n",
    "   \\end{bmatrix}\n",
    "   $$\n",
    "3. Choose approximate Gramian factors\n",
    "\n",
    "   $$\n",
    "   \\begin{align}\n",
    "     \\mathcal{O} = U_r \\Sigma_r^{1/2}, &&\n",
    "     \\mathcal{C} = \\Sigma_r^{1/2} V_r^T\n",
    "   \\end{align}\n",
    "   $$\n",
    "4. Construct a (partial) realization\n",
    "\n",
    "   $$\n",
    "   \\begin{align}\n",
    "     &\n",
    "     A = \\mathcal{O}_{f}^{\\dagger} \\mathcal{O}_{l},\n",
    "     &&\n",
    "     B = \\mathcal{C}\n",
    "     \\begin{bmatrix}\n",
    "       I_{m} \\\\\n",
    "       0\n",
    "     \\end{bmatrix},\n",
    "     &\n",
    "     C =\n",
    "     \\begin{bmatrix}\n",
    "       I_p & 0\n",
    "     \\end{bmatrix}\n",
    "     \\mathcal{O},\n",
    "     &&\n",
    "     D = h_0\n",
    "   \\end{align}\n",
    "   $$\n",
    "\n",
    "**Output:** Partial realization $(A,B,C,D)$"
   ]
  },
  {
   "cell_type": "code",
   "execution_count": null,
   "id": "b52a2b4e",
   "metadata": {
    "slideshow": {
     "slide_type": "slide"
    }
   },
   "outputs": [],
   "source": [
    "from pymor.operators.numpy import NumpyHankelOperator\n",
    "\n",
    "H = NumpyHankelOperator(np.concatenate((ir, np.zeros_like(ir)[1:])))\n",
    "print(H)"
   ]
  },
  {
   "cell_type": "markdown",
   "id": "dd410e9b",
   "metadata": {
    "slideshow": {
     "slide_type": "slide"
    }
   },
   "source": [
    "### Tangential projections\n",
    "Computing the SVD might be infeasible for large $\\mathcal{H}$.\n",
    "\n",
    "- The impulse response data $h$ contains $n = 511 = 2 s - 1$ samples after zero padding\n",
    "- Rank of $\\mathcal{H}$ is bounded\n",
    "\n",
    "  $$\n",
    "  \\operatorname{rank}(\\mathcal{H})\n",
    "  \\leq \\min\\{m s, p s\\}\n",
    "  = 512\n",
    "  $$\n",
    "- We can reduce the size of $\\mathcal{H}$ with **tangential projections** by computing a skinny SVD of\n",
    "\n",
    "  $$\n",
    "  \\Theta_\\mathrm{in} =\n",
    "  \\begin{bmatrix}\n",
    "    h_1 \\\\\n",
    "    \\vdots \\\\\n",
    "    h_s\n",
    "  \\end{bmatrix}\n",
    "  = U_\\mathrm{in} \\Sigma_\\mathrm{in} V_\\mathrm{in}^T\n",
    "  \\in \\mathbb{R}^{p s \\times m}\n",
    "  $$\n",
    "\n",
    "  and projecting the data with $V_\\mathrm{in} \\in \\mathbb{R}^{m \\times p s}$\n",
    "\n",
    "  $$\n",
    "  \\hat{h}_i = h V_\\mathrm{in} \\in \\mathbb{R}^{p \\times p s}\n",
    "  $$\n",
    "- Let $\\mathcal{V} = \\operatorname{blk diag}\\left(V,\\,\\dots,\\,V\\right) \\in \\mathbb{R}^{ms\\times ps^2}$.\n",
    "  Since $V$ is unitary, $\\mathcal{V}$ is unitary.\n",
    "  It follows that\n",
    "\n",
    "  $$\n",
    "  \\sigma(\\mathcal{H})\n",
    "  = \\sigma(\\mathcal{H} \\mathcal{V})\n",
    "  = \\sigma(\\mathcal{\\hat{H}})\n",
    "  $$"
   ]
  },
  {
   "cell_type": "markdown",
   "id": "ff55f1b7",
   "metadata": {
    "slideshow": {
     "slide_type": "slide"
    }
   },
   "source": [
    "## Using pyMOR"
   ]
  },
  {
   "cell_type": "code",
   "execution_count": null,
   "id": "751440d3",
   "metadata": {
    "slideshow": {
     "slide_type": "slide"
    }
   },
   "outputs": [],
   "source": [
    "from pymor.reductors.era import ERAReductor\n",
    "\n",
    "ERAReductor?"
   ]
  },
  {
   "cell_type": "code",
   "execution_count": null,
   "id": "171d246b",
   "metadata": {
    "slideshow": {
     "slide_type": "slide"
    }
   },
   "outputs": [],
   "source": [
    "ERAReductor.reduce??"
   ]
  },
  {
   "cell_type": "markdown",
   "id": "f0ecfd42",
   "metadata": {
    "slideshow": {
     "slide_type": "slide"
    }
   },
   "source": [
    "## Exercise 1: Construct a partial realization"
   ]
  },
  {
   "cell_type": "code",
   "execution_count": null,
   "id": "05ba28b7",
   "metadata": {
    "slideshow": {
     "slide_type": "slide"
    }
   },
   "outputs": [],
   "source": [
    "era = ERAReductor(ir, sampling_time=1/fs, force_stability=True, feedthrough=None)"
   ]
  },
  {
   "cell_type": "code",
   "execution_count": null,
   "id": "ccacfeaf",
   "metadata": {
    "slideshow": {
     "slide_type": "slide"
    }
   },
   "outputs": [],
   "source": [
    "# your code here"
   ]
  },
  {
   "cell_type": "code",
   "execution_count": null,
   "id": "d7881aec",
   "metadata": {
    "slideshow": {
     "slide_type": "slide"
    }
   },
   "outputs": [],
   "source": [
    "flim = np.array((200, fs/2))\n",
    "wlim = 2 * np.pi * flim / fs\n",
    "ylim = (-40, 20)\n",
    "\n",
    "from pymor.algorithms.to_matrix import to_matrix\n",
    "from pymor.operators.numpy import NumpyMatrixOperator\n",
    "\n",
    "# slice the model for plotting\n",
    "sliced_roms = dict()\n",
    "for key, rom in roms.items():\n",
    "    sliced_roms[key] = rom.with_(B=NumpyMatrixOperator(to_matrix(rom.B)[:, input_idx].reshape(-1, 1)),\n",
    "                                 D=NumpyMatrixOperator(to_matrix(rom.D)[:, input_idx].reshape(-1, 1)))\n",
    "\n",
    "fig, ax = plt.subplots(2, 2, figsize=(12, 9))\n",
    "ax = ax.T.ravel()\n",
    "ax[0].semilogx(np.fft.rfftfreq(256, 1/fs), 20*np.log10(np.abs(np.fft.rfft(ir[:, 0, input_idx]))), c='grey', marker='o', mec='k', markersize='3', label='data')\n",
    "ax[2].semilogx(np.fft.rfftfreq(256, 1/fs), 20*np.log10(np.abs(np.fft.rfft(ir[:, 1, input_idx]))), c='grey', marker='o', mec='k', markersize='3', label='data')\n",
    "ax = ax.reshape(-1, 1)\n",
    "for order, rom in sliced_roms.items():\n",
    "    rom.transfer_function.bode_plot(wlim, ax=ax, dB=True, Hz=True, label=f'r = {order}')\n",
    "ax = np.squeeze(ax)\n",
    "ax[0].set(xlabel='Frequency (Hz)', title='left ear', xlim=flim, ylim=ylim)\n",
    "ax[0].legend()\n",
    "ax[0].grid()\n",
    "fig.delaxes(ax[1])\n",
    "ax[2].set(xlabel='Frequency (Hz)', title='right ear', xlim=flim, ylim=ylim)\n",
    "ax[2].legend()\n",
    "ax[2].grid()\n",
    "fig.delaxes(ax[3])\n",
    "\n",
    "\n",
    "fig, axes = plt.subplots(1, 2)\n",
    "fig.suptitle(f'Error Impulse Response (input {input_idx})')\n",
    "for rom in sliced_roms.values():\n",
    "    rom = rom.with_(T=256)\n",
    "    hrir = rom.impulse_resp()[1:, :, 0] / fs\n",
    "    error = ir[..., input_idx] - hrir\n",
    "    for i, ax in enumerate(axes):\n",
    "        ax.plot(t, error[:, i], marker='o', mec='k', markersize='3', label='data')\n",
    "        ax.set(xlabel=r'Time (s)', ylabel='Amplitude', title=f'{\"left\" if i == 0 else \"right\"} ear', ylim=(-0.075, 0.075))"
   ]
  },
  {
   "cell_type": "markdown",
   "id": "353b1c83",
   "metadata": {
    "slideshow": {
     "slide_type": "slide"
    }
   },
   "source": [
    "## Exercise 2: Construct a partial realization with tangential projections"
   ]
  }
 ],
 "metadata": {
  "jupytext": {
   "formats": "ipynb,md"
  },
  "kernelspec": {
   "display_name": "Python 3 (ipykernel)",
   "language": "python",
   "name": "python3"
  }
 },
 "nbformat": 4,
 "nbformat_minor": 5
}
