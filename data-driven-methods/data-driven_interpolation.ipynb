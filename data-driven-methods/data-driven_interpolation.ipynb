{
 "cells": [
  {
   "cell_type": "markdown",
   "id": "060ca930",
   "metadata": {},
   "source": [
    "# Data-Driven Rational Interpolation\n",
    "\n",
    "Consider a SISO LTI system\n",
    "\n",
    "$$\n",
    "\\begin{equation}\\tag{$\\Sigma$}\n",
    "  \\begin{aligned}\n",
    "    E \\dot{x}(t) & = A x(t) + B u(t), \\\\\n",
    "    y(t) & = C x(t).\n",
    "  \\end{aligned}\n",
    "\\end{equation}\n",
    "$$\n",
    "\n",
    "where $ E, A \\in \\mathbb{R}^{n \\times n}, B \\in \\mathbb{R}^{n \\times 1}, C \\in \\mathbb{R}^{1 \\times n}$.\n",
    "\n",
    "The corresponding transfer function is\n",
    "\n",
    "$$\n",
    "H(s) = C {\\left(s E - A\\right)}^{-1} B.\n",
    "$$\n",
    "\n",
    "$H$ is a matrix-valued rational function.\n",
    "\n",
    "***Goal:*** For some Laplace-variables/frequencies of interest $s_1,\\ldots,s_N$ compute a rational function $\\hat{H}$ such that \n",
    "\n",
    "$$\n",
    "    H(s_i) = \\hat{H}(s_i)\n",
    "$$"
   ]
  },
  {
   "cell_type": "markdown",
   "id": "39d5a8b6",
   "metadata": {},
   "source": [
    "If we know $E, A, B, C$ then we use rational Krylov subspaces and do projection: `LTIBHIReductor`.\n",
    "\n",
    "If we don't know $E, A, B, C$ but can evaluate $H(s)$ for arbitrary $s$ then we can use `TFBHIReductor`."
   ]
  },
  {
   "cell_type": "markdown",
   "id": "d819c4fd",
   "metadata": {},
   "source": [
    "## Data-Driven Setting\n",
    "\n",
    "If we have neither access to $E, A, B, C$ nor $H(s)$ ***but a dataset***\n",
    "\n",
    "$$\n",
    "\\begin{equation}\n",
    "  \\begin{aligned}\n",
    "    H(s_1),\\ldots,H(s_N) \\\\\n",
    "    s_1,\\ldots,s_N \\in \\mathbb{C}\n",
    "  \\end{aligned}\n",
    "\\end{equation}\n",
    "$$\n",
    "\n",
    "then we are in the ***data-driven*** setting.\n",
    "\n",
    "Data can come from\n",
    "- Real-world measurements\n",
    "- Data from previous simulations"
   ]
  },
  {
   "cell_type": "markdown",
   "id": "d0b0b626",
   "metadata": {},
   "source": [
    "## Loewner Interpolation Framework\n",
    "\n",
    "1.    Split the data into left and right partition\n",
    "    $$\n",
    "    \\begin{aligned}\n",
    "    \\{ s_1,\\ldots,s_N \\} \\quad &\\rightarrow \\quad \\{ \\lambda_1,\\ldots,\\lambda_k \\} \\cup \\{ \\mu_1,\\ldots,\\mu_{N-k} \\} \\\\\n",
    "    H(s_1),\\ldots,H(s_N) \\quad &\\rightarrow \\quad \\{ H(\\lambda_1),\\ldots,H(\\lambda_k) \\} \\cup \\{ H(\\mu_1),\\ldots,H(\\mu_{N-k}) \\} \\\\\n",
    "    \\end{aligned}\n",
    "    $$\n",
    "2.    Compute the Loewner matrix pencil\n",
    "    $$\n",
    "    \\mathbb{L} = \\begin{bmatrix}\n",
    "    \\frac{H(\\lambda_1) - H(\\mu_1)}{\\lambda_1 - \\mu_1} & \\cdots & \\frac{H(\\lambda_1) - H(\\mu_{N-k})}{\\lambda_1 - \\mu_{N-k}} \\\\ \n",
    "        \\vdots & & \\vdots \\\\\n",
    "    \\frac{H(\\lambda_k) - H(\\mu_1)}{\\lambda_k - \\mu_1} & \\cdots & \\frac{H(\\lambda_k) - H(\\mu_{N-k})}{\\lambda_k - \\mu_{N-k}}\n",
    "    \\end{bmatrix}, \\quad \\mathbb{L}_s = \\begin{bmatrix}\n",
    "    \\frac{\\lambda_1 H(\\lambda_1) - \\mu_1 H(\\mu_1)}{\\lambda_1 - \\mu_1} & \\cdots & \\frac{\\lambda_1 H(\\lambda_1) - \\mu_{N-k} H(\\mu_{N-k})}{\\lambda_1 - \\mu_{N-k}} \\\\ \n",
    "        \\vdots & & \\vdots \\\\\n",
    "    \\frac{\\lambda_k H(\\lambda_k) - \\mu_1 H(\\mu_1)}{\\lambda_k - \\mu_1} & \\cdots & \\frac{\\lambda_k H(\\lambda_k) - \\mu_{N-k} H(\\mu_{N-k})}{\\lambda_k - \\mu_{N-k}}\n",
    "    \\end{bmatrix} \\in \\mathbb{R}^{k \\times (N - k)}\n",
    "    $$\n",
    "3.    Compute the rank-revealing SVDs\n",
    "    $$\n",
    "    Y_1 \\Sigma_1 X_1^* = \\begin{bmatrix} \\mathbb{L} & \\mathbb{L}_s \\end{bmatrix}, Y_2 \\Sigma_2 X_2^* = \\begin{bmatrix} \\mathbb{L} \\\\ \\mathbb{L}_s \\end{bmatrix}\n",
    "    $$\n",
    "4.    Form the LTI ROM via\n",
    "    $$\n",
    "    \\begin{aligned}\n",
    "        \\hat{E} &:= -Y_1^\\top \\mathbb{L}_s X_2 \\\\\n",
    "        \\hat{A} &:= -Y_1^\\top \\mathbb{L} X_2 \\\\\n",
    "        \\hat{B} &:= Y_1^\\top \\begin{bmatrix} H(\\mu_1) & \\cdots & H(\\mu_{N-k}) \\end{bmatrix}^\\top \\\\\n",
    "        \\hat{C} &:= \\begin{bmatrix} H(\\lambda_1) & \\cdots & H(\\lambda_k) \\end{bmatrix} X_2 \\\\\n",
    "    \\end{aligned}\n",
    "    $$"
   ]
  },
  {
   "cell_type": "markdown",
   "id": "512a57e3",
   "metadata": {},
   "source": [
    "The reduced order model will be of order $r$ where\n",
    "$$\n",
    "    r = \\operatorname{rank}\\left(\\begin{bmatrix} \\mathbb{L} & \\mathbb{L}_s \\end{bmatrix}\\right).\n",
    "$$\n",
    "The reduced order transfer function $\\hat{H}$ will interpolate $H$ for all samples $\\{ s_1,\\ldots,s_N \\}$ "
   ]
  },
  {
   "cell_type": "markdown",
   "id": "0f642ecf",
   "metadata": {},
   "source": [
    "There are many practical (typically problem or objective dependent) questions:\n",
    "\n",
    "- How large should the left vs right partition be?\n",
    "- How do we pick which samples go into the left vs right partition?\n",
    "- How do we choose the tolerance for the numerical rank in the rank-revealing SVD?\n",
    "- How do we do it for the MIMO case (i.e., interpolation of matrix-valued functions)?"
   ]
  },
  {
   "cell_type": "code",
   "execution_count": null,
   "id": "3ca4c6a2",
   "metadata": {},
   "outputs": [],
   "source": [
    "import scipy.io as spio\n",
    "from pymor.models.iosys import LTIModel\n",
    "\n",
    "mats = spio.loadmat('files/beam.mat')\n",
    "fom = LTIModel.from_matrices(mats['A'], mats['B'].toarray(), mats['C'].toarray())"
   ]
  },
  {
   "cell_type": "code",
   "execution_count": null,
   "id": "d4ae186e",
   "metadata": {},
   "outputs": [],
   "source": [
    "fom"
   ]
  },
  {
   "cell_type": "code",
   "execution_count": null,
   "id": "bee1af17",
   "metadata": {},
   "outputs": [],
   "source": [
    "import numpy as np\n",
    "\n",
    "s = np.logspace(-3, 3, 50)\n",
    "Hs = np.array([fom.transfer_function.eval_tf(ss) for ss in 1j*s])"
   ]
  },
  {
   "cell_type": "code",
   "execution_count": null,
   "id": "8346cc9a",
   "metadata": {},
   "outputs": [],
   "source": [
    "from pymor.reductors.loewner import LoewnerReductor\n",
    "\n",
    "loewner = LoewnerReductor(1j*s,Hs)"
   ]
  },
  {
   "cell_type": "markdown",
   "id": "1500d2f6",
   "metadata": {},
   "source": [
    "It holds $H(\\overline{s}) = \\overline{H(s)}$.\n",
    "\n",
    "If we have data for $H(s)$ we can artifically increase our data set by adding complex conjugates. This allows for computing ***real realizations***."
   ]
  },
  {
   "cell_type": "code",
   "execution_count": null,
   "id": "3a9477c8",
   "metadata": {},
   "outputs": [],
   "source": [
    "rom = loewner.reduce()"
   ]
  },
  {
   "cell_type": "code",
   "execution_count": null,
   "id": "e8a76cc4",
   "metadata": {},
   "outputs": [],
   "source": [
    "rom"
   ]
  },
  {
   "cell_type": "code",
   "execution_count": null,
   "id": "3267d6e7",
   "metadata": {},
   "outputs": [],
   "source": [
    "import matplotlib.pyplot as plt\n",
    "\n",
    "fig, ax = plt.subplots(constrained_layout=True)\n",
    "fom.transfer_function.mag_plot(np.logspace(-3, 3, 200), ax=ax, label='FOM')\n",
    "rom.transfer_function.mag_plot(np.logspace(-3, 3, 200), ax=ax, label='ROM', linestyle='dashed')\n",
    "ax.legend()"
   ]
  },
  {
   "cell_type": "markdown",
   "id": "66f5c931",
   "metadata": {},
   "source": [
    "### Exercise\n",
    "\n",
    "- Change the `partitioning` attribute of `loewner` to `'half-half`' using `loewner.with_`.\n",
    "- Compute an order $5$ reduced model with the `loewner` reductor (i.e., pass $r=5$ to the `reduce` method).\n",
    "- Plot the solution.\n",
    "- Repeat the previous steps using `partitioning = 'even-odd'`.\n"
   ]
  },
  {
   "cell_type": "code",
   "execution_count": null,
   "id": "914cf850",
   "metadata": {},
   "outputs": [],
   "source": [
    "loewner = loewner.with_(...)\n",
    "..."
   ]
  },
  {
   "cell_type": "markdown",
   "id": "32853ea2",
   "metadata": {},
   "source": [
    "### Rational Approximation\n",
    "The Loewner framework will yield a rational approximation if\n",
    "- The truncation tolerance for the SVD of Loewner matrices is too small\n",
    "- The partitioning size $k$ is too small"
   ]
  },
  {
   "cell_type": "markdown",
   "id": "acc4ea1e",
   "metadata": {},
   "source": [
    "### AAA Idea\n",
    "1.    Construct $\\hat{H}$ such that it interpolates $\\lambda_1,\\ldots,\\lambda_k$ and approximates other data in a least squares sense.\n",
    "    $$\n",
    "    \\{ s_1,\\ldots,s_N \\} \\quad \\rightarrow \\quad \\begin{cases} \\text{Interpolate: } & \\{ \\lambda_1,\\ldots,\\lambda_k \\} \\\\ \\text{LS Fit:} & \\{ \\mu_1,\\ldots,\\mu_{N-k} \\} \\end{cases}\n",
    "    $$\n",
    "2.    Start with $k=1$ interpolation point and successively increase the interpolation set via greedy selection:\n",
    "    $$\n",
    "      \\lambda_{k+1} = \\operatorname{arg max} \\lVert H(\\mu_j) - \\hat{H}(\\mu_j) \\rVert\n",
    "    $$\n",
    "3.    Finish once error over training set is low enough."
   ]
  },
  {
   "cell_type": "code",
   "execution_count": null,
   "id": "cf4a6ae2",
   "metadata": {},
   "outputs": [],
   "source": [
    "from pymor.reductors.aaa import PAAAReductor\n",
    "\n",
    "aaa = PAAAReductor(1j*s,Hs)"
   ]
  },
  {
   "cell_type": "code",
   "execution_count": null,
   "id": "b0072034",
   "metadata": {},
   "outputs": [],
   "source": [
    "rom = aaa.reduce(tol=1e-6)"
   ]
  },
  {
   "cell_type": "code",
   "execution_count": null,
   "id": "86cbbdf5",
   "metadata": {},
   "outputs": [],
   "source": [
    "rom"
   ]
  },
  {
   "cell_type": "code",
   "execution_count": null,
   "id": "2e1eca9c",
   "metadata": {},
   "outputs": [],
   "source": [
    "fig, ax = plt.subplots(constrained_layout=True)\n",
    "fom.transfer_function.mag_plot(np.logspace(-3, 3, 200), ax=ax, label='FOM')\n",
    "rom.mag_plot(np.logspace(-3, 3, 200), ax=ax, label='ROM', linestyle='dashed')"
   ]
  },
  {
   "cell_type": "code",
   "execution_count": null,
   "id": "0f1c722d",
   "metadata": {},
   "outputs": [],
   "source": []
  }
 ],
 "metadata": {
  "jupytext": {
   "cell_metadata_filter": "-all",
   "main_language": "python",
   "notebook_metadata_filter": "-all"
  }
 },
 "nbformat": 4,
 "nbformat_minor": 5
}
