{
 "cells": [
  {
   "cell_type": "markdown",
   "id": "5a057089",
   "metadata": {},
   "source": [
    "# Dynamic Mode Decomposition (DMD)"
   ]
  },
  {
   "cell_type": "markdown",
   "id": "b985b72f",
   "metadata": {},
   "source": [
    "Consider a discrete-time system\n",
    "\n",
    "$$\n",
    "x_{k + 1} = T(x_k)\n",
    "$$\n",
    "\n",
    "where $x_k \\in \\mathbb{R}^n$."
   ]
  },
  {
   "cell_type": "markdown",
   "id": "bd8e8c37",
   "metadata": {},
   "source": [
    "Suppose we have data as sequential snapshots $x_0, x_1, \\ldots, x_m \\in \\mathbb{R}^n$.\n",
    "\n",
    "The idea is to approximate the dynamics with a linear system\n",
    "\n",
    "$$\n",
    "\\tilde{x}_{k + 1} = A \\tilde{x}_k.\n",
    "$$"
   ]
  },
  {
   "cell_type": "markdown",
   "id": "31862c8e",
   "metadata": {},
   "source": [
    "Then it should be that $x_{k + 1} \\approx A x_k$, which we can write as\n",
    "\n",
    "$$\n",
    "\\begin{align*}\n",
    "  \\underbrace{\n",
    "    \\begin{bmatrix}\n",
    "      x_1 & x_2 & \\cdots & x_m\n",
    "    \\end{bmatrix}\n",
    "  }_{=: Y}\n",
    "  & \\approx\n",
    "  A\n",
    "  \\underbrace{\n",
    "    \\begin{bmatrix}\n",
    "      x_0 & x_1 & \\cdots & x_{m - 1}\n",
    "    \\end{bmatrix}\n",
    "  }_{=: X} \\\\\n",
    "  Y & \\approx A X\n",
    "\\end{align*}\n",
    "$$"
   ]
  },
  {
   "cell_type": "markdown",
   "id": "7b0eabd7",
   "metadata": {},
   "source": [
    "Thus, we could determine $A$ by solving the least squares problem\n",
    "\n",
    "$$\n",
    "A =\n",
    "\\operatorname*{arg\\,min}_{\\mathcal{A} \\in \\mathbb{R}^{n \\times n}}\n",
    "\\lVert Y - \\mathcal{A} X \\rVert_F^2,\n",
    "$$\n",
    "\n",
    "i.e.\n",
    "\n",
    "$$\n",
    "A = Y X^+.\n",
    "$$"
   ]
  },
  {
   "cell_type": "markdown",
   "id": "c331252d",
   "metadata": {},
   "source": [
    "It can be extended to input-output systems (ioDMD)\n",
    "\n",
    "$$\n",
    "\\begin{align*}\n",
    "  x_{k + 1} & = A x_k + B u_k, \\\\\n",
    "  y_k & = C x_k + D u_k,\n",
    "\\end{align*}\n",
    "$$\n",
    "\n",
    "with input data $u_0, u_1, \\ldots, u_m$,\n",
    "state data $x_0, x_1, \\ldots, x_m$,\n",
    "and output data $y_0, y_1, \\ldots, y_m$."
   ]
  },
  {
   "cell_type": "markdown",
   "id": "5ea116df",
   "metadata": {},
   "source": [
    "## Exercise\n",
    "\n",
    "Apply `pymor.algorithms.dmd.dmd`."
   ]
  },
  {
   "cell_type": "markdown",
   "id": "6d8c2c6d",
   "metadata": {},
   "source": [
    "# Time-delay embeddings"
   ]
  },
  {
   "cell_type": "markdown",
   "id": "f1728e63",
   "metadata": {},
   "source": [
    "Recall that the transfer function of an continuous-time LTI system\n",
    "\n",
    "$$\n",
    "H(s) = C (s I - A)^{-1} B\n",
    "$$\n",
    "\n",
    "is a stricly proper rational function.\n",
    "Therefore, it can be represented as a ratio of polynormials:\n",
    "\n",
    "$$\n",
    "H(s) = \\frac{p_{n - 1} s^{n - 1} + \\cdots + p_1 s + p_0}{s^n + q_{n - 1} s^{n - 1} + \\cdots + q_1 s + q_0}.\n",
    "$$\n",
    "\n",
    "Then, from $Y(s) = H(s) U(s)$, it follows that\n",
    "\n",
    "$$\n",
    "(s^n + q_{n - 1} s^{n - 1} + \\cdots + q_1 s + q_0) Y(s) = (p_{n - 1} s^{n - 1} + \\cdots + p_1 s + p_0) U(s).\n",
    "$$\n",
    "\n",
    "Applying the inverse Laplace transformation gives\n",
    "\n",
    "$$\n",
    "y^{(n)}(t) + q_{n - 1} y^{(n - 1)}(t) + \\cdots + q_1 y'(t) + q_0 y(t) =\n",
    "p_{n - 1} u^{(n - 1)}(t) + \\cdots + p_1 u'(t) + p_0 u(t).\n",
    "$$\n",
    "\n",
    "Similar procedure works for discrete-time systems:\n",
    "\n",
    "$$\n",
    "y_{k + n} + q_{n - 1} y_{k + n - 1} + \\cdots + q_1 y_{k + 1} + q_0 y_k =\n",
    "p_{n - 1} u_{k + n - 1} + \\cdots + p_1 u_{k + 1} + p_0 u_k.\n",
    "$$"
   ]
  }
 ],
 "metadata": {
  "jupytext": {
   "formats": "ipynb,md"
  },
  "kernelspec": {
   "display_name": "Python 3 (ipykernel)",
   "language": "python",
   "name": "python3"
  }
 },
 "nbformat": 4,
 "nbformat_minor": 5
}
