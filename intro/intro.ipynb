{
 "cells": [
  {
   "cell_type": "code",
   "execution_count": null,
   "id": "fed899d6",
   "metadata": {
    "slideshow": {
     "slide_type": "-"
    }
   },
   "outputs": [],
   "source": [
    "# enable logging widget\n",
    "%load_ext pymor.discretizers.builtin.gui.jupyter"
   ]
  },
  {
   "cell_type": "markdown",
   "id": "5fca11d5",
   "metadata": {
    "slideshow": {
     "slide_type": "slide"
    }
   },
   "source": [
    "# pyMOR -- Model Order Reduction with Python"
   ]
  },
  {
   "cell_type": "markdown",
   "id": "def57a7f",
   "metadata": {
    "slideshow": {
     "slide_type": "slide"
    }
   },
   "source": [
    "## What is Model Order Reduction?"
   ]
  },
  {
   "cell_type": "markdown",
   "id": "2d8b11aa",
   "metadata": {
    "slideshow": {
     "slide_type": "fragment"
    }
   },
   "source": [
    "![](mor.svg)"
   ]
  },
  {
   "cell_type": "markdown",
   "id": "72998e17",
   "metadata": {
    "slideshow": {
     "slide_type": "subslide"
    }
   },
   "source": [
    "## What is Model Order Reduction?\n",
    "\n",
    "![](mor2.svg)"
   ]
  },
  {
   "cell_type": "markdown",
   "id": "89ceef68",
   "metadata": {
    "slideshow": {
     "slide_type": "slide"
    }
   },
   "source": [
    "## What is pyMOR?"
   ]
  },
  {
   "cell_type": "markdown",
   "id": "501548a7",
   "metadata": {
    "slideshow": {
     "slide_type": "fragment"
    }
   },
   "source": [
    "pyMOR is ...\n",
    "\n",
    "- a software library for writing **M**odel **O**rder **R**eduction applications\n",
    "- in the **py**thon programming language.\n",
    "- BSD-licensed, fork us on [GitHub](https://github.com/pymor/pymor).\n",
    "- Everyone can contribute, everyone can become main developer.\n",
    "- Started 2012, 27k lines of code (without tests), 11k commits."
   ]
  },
  {
   "cell_type": "markdown",
   "id": "59e8c0aa",
   "metadata": {
    "slideshow": {
     "slide_type": "subslide"
    }
   },
   "source": [
    "## Design Goals"
   ]
  },
  {
   "cell_type": "markdown",
   "id": "fc2c2503",
   "metadata": {
    "slideshow": {
     "slide_type": "fragment"
    }
   },
   "source": [
    "- **Goal 1:** One library for algorithm development *and* large-scale applications.\n",
    "    - Small NumPy/SciPy-based discretization toolkit for easy prototyping.\n",
    "    - `VectorArray`, `Operator`, `Model` interfaces for seamless integration with high-performance PDE solvers."
   ]
  },
  {
   "cell_type": "markdown",
   "id": "f9fe124b",
   "metadata": {
    "slideshow": {
     "slide_type": "fragment"
    }
   },
   "source": [
    "- **Goal 2:** Unified view on MOR.\n",
    "    - Implement RB and system-theoretic methods in one common language."
   ]
  },
  {
   "cell_type": "markdown",
   "id": "c1217946",
   "metadata": {
    "slideshow": {
     "slide_type": "subslide"
    }
   },
   "source": [
    "## Implemented Algorithms\n",
    "\n",
    "- Gram-Schmidt, POD, HAPOD\n",
    "- Greedy basis generation with different extension algorithms\n",
    "- Automatic (Petrov-)Galerkin projection of arbitrarily nested affine combinations of operators\n",
    "- Successive constraints method\n",
    "- Interpolation of arbitrary (nonlinear) operators, EI-Greedy, DEIM\n",
    "- A posteriori error estimation\n",
    "- System theory methods: balanced truncation, IRKA, ...\n",
    "- Structure-preserving methods: symplectic MOR, second-order systems, port-Hamiltonian systems\n",
    "- Data-driven methods: DMD, Loewner, ANNs, ...\n",
    "- Matrix equation solvers\n",
    "- Iterative linear solvers, eigenvalue computation, Cholesky QR, randomized LA, time-stepping algorithms"
   ]
  },
  {
   "cell_type": "markdown",
   "id": "b1c7ecb6",
   "metadata": {
    "slideshow": {
     "slide_type": "subslide"
    }
   },
   "source": [
    "## PDE Solvers\n",
    "\n",
    "### Official Support:\n",
    "\n",
    "- [deal.II](https://dealii.org)\n",
    "- [FEniCS](https://fenicsproject.org)\n",
    "- [NGSolve](https://ngsolve.org)\n",
    "- [scikit-fem](https://github.com/kinnala/scikit-fem)\n",
    "\n",
    "### Used with:\n",
    "\n",
    "- [DUNE](https://dune-project.org)\n",
    "- [FEniCSx](https://fenicsproject.org)\n",
    "- [BEST](https://www.itwm.fraunhofer.de/en/departments/sms/products-services/best-battery-electrochemistry-simulation-tool.html)\n",
    "- [GridLOD](https://github.com/fredrikhellman/gridlod)\n",
    "- file I/O, e.g. [COMSOL](https://comsol.com)\n",
    "- ..."
   ]
  },
  {
   "cell_type": "markdown",
   "id": "88929b6d",
   "metadata": {
    "jp-MarkdownHeadingCollapsed": true,
    "slideshow": {
     "slide_type": "subslide"
    }
   },
   "source": [
    "## Installation\n",
    "\n",
    "pyMOR can be installed via `pip`. To follow this notebook, pyMOR should be installed with [Jupyter](https://jupyter.org) support:\n",
    "\n",
    "```bash\n",
    "pip install pymor[jupyter]\n",
    "```\n",
    "\n",
    "If you follow along in the terminal / in an IDE, you should install pyMOR using\n",
    "the `gui` extra:\n",
    "\n",
    "```bash\n",
    "pip install pymor[gui]\n",
    "```\n",
    "\n",
    "We also provide [conda-forge](https://conda-forge.org) packages:\n",
    "\n",
    "```bash\n",
    "conda install -c conda-forge pymor\n",
    "```\n",
    "\n",
    "See [README.md](https://github.com/pymor/pymor/blob/main/README.md) for details."
   ]
  },
  {
   "cell_type": "markdown",
   "id": "bd9e227b",
   "metadata": {
    "slideshow": {
     "slide_type": "subslide"
    }
   },
   "source": [
    "## Hello pyMOR!"
   ]
  },
  {
   "cell_type": "code",
   "execution_count": null,
   "id": "c1da7c99",
   "metadata": {
    "slideshow": {
     "slide_type": "fragment"
    }
   },
   "outputs": [],
   "source": [
    "import pymor\n",
    "pymor.config"
   ]
  },
  {
   "cell_type": "code",
   "execution_count": null,
   "id": "6bba0020",
   "metadata": {
    "slideshow": {
     "slide_type": "subslide"
    }
   },
   "outputs": [],
   "source": [
    "from pymor.basic import *\n",
    "print_defaults()"
   ]
  },
  {
   "cell_type": "markdown",
   "id": "f82bb4fb",
   "metadata": {
    "slideshow": {
     "slide_type": "subslide"
    }
   },
   "source": [
    "## Subpackages of the pymor Package\n",
    "\n",
    "|                                |                                                      |\n",
    "| :-                             | :-                                                   |\n",
    "| **`pymor.algorithms`**         | generic algorithms                                   |\n",
    "| **`pymor.analyticalproblems`** | problem descriptions for use with discretizers       |\n",
    "| `pymor.bindings`               | bindings to external solvers                         |\n",
    "| `pymor.core`                   | base classes/caching/defaults/logging                |\n",
    "| **`pymor.discretizers`**       | create `Models` from `analyticalproblems`            |\n",
    "| **`pymor.models`**             | `Model` interface/implementations                    |\n",
    "| **`pymor.operators`**          | `Operator` interface/constructions                   |\n",
    "| `pymor.parallel`               | `WorkerPools` for parallelization                    |\n",
    "| **`pymor.parameters`**         | parameter support/`ParameterFunctionals`             |\n",
    "| **`pymor.reductors`**          | most MOR algorithms (rest in `pymor.algorithms`)     |\n",
    "| `pymor.scripts`                | executable scripts (`pymor-demo`, internal scripts)  |\n",
    "| `pymor.tools`                  | non MOR-specific support code (pprint/floatcmp, ...) |\n",
    "| **`pymor.vectorarrays`**       | `VectorArray` interface/implementations              |"
   ]
  },
  {
   "cell_type": "markdown",
   "id": "72d7a5c6",
   "metadata": {
    "slideshow": {
     "slide_type": "slide"
    }
   },
   "source": [
    "## Example: Reduced Basis Method for Elliptic Problems"
   ]
  },
  {
   "cell_type": "markdown",
   "id": "03e369e1",
   "metadata": {
    "slideshow": {
     "slide_type": "fragment"
    }
   },
   "source": [
    "- Snapshot- and projection-based MOR method for parameterized (PDE) models.\n",
    "- Classic theory for elliptic parameter-separable problems.\n",
    "- Extendable to non-linear/time-dependent/systems.\n",
    "- Details: lecture today."
   ]
  },
  {
   "cell_type": "code",
   "execution_count": null,
   "id": "aab6ba99",
   "metadata": {
    "slideshow": {
     "slide_type": "-"
    }
   },
   "outputs": [],
   "source": [
    "from pymor.models.examples import thermal_block_example\n",
    "\n",
    "fom_tb = thermal_block_example()"
   ]
  },
  {
   "cell_type": "markdown",
   "id": "e07ee7fd",
   "metadata": {
    "slideshow": {
     "slide_type": "subslide"
    }
   },
   "source": [
    "`fom_tb` is an instance of `StationaryModel`:"
   ]
  },
  {
   "cell_type": "code",
   "execution_count": null,
   "id": "d8bcc5aa",
   "metadata": {
    "slideshow": {
     "slide_type": "-"
    }
   },
   "outputs": [],
   "source": [
    "fom_tb"
   ]
  },
  {
   "cell_type": "markdown",
   "id": "014bc315",
   "metadata": {
    "slideshow": {
     "slide_type": "subslide"
    }
   },
   "source": [
    "Let us compute and show the solution for particular parameter values:"
   ]
  },
  {
   "cell_type": "code",
   "execution_count": null,
   "id": "7dd5003b",
   "metadata": {
    "slideshow": {
     "slide_type": "-"
    }
   },
   "outputs": [],
   "source": [
    "mu = [0.1, 0.2, 0.5, 1]\n",
    "U = fom_tb.solve(mu)\n",
    "fom_tb.visualize(U)"
   ]
  },
  {
   "cell_type": "markdown",
   "id": "92040db2",
   "metadata": {
    "slideshow": {
     "slide_type": "subslide"
    }
   },
   "source": [
    "To build the reduced-order model (ROM), we need to create a `reductor`:"
   ]
  },
  {
   "cell_type": "code",
   "execution_count": null,
   "id": "5b22b973",
   "metadata": {
    "slideshow": {
     "slide_type": "-"
    }
   },
   "outputs": [],
   "source": [
    "from pymor.parameters.functionals import ExpressionParameterFunctional\n",
    "from pymor.reductors.coercive import CoerciveRBReductor\n",
    "\n",
    "reductor = CoerciveRBReductor(\n",
    "    fom_tb,\n",
    "    product=fom_tb.h1_0_semi_product,\n",
    "    coercivity_estimator=ExpressionParameterFunctional('min(diffusion)',\n",
    "                                                       fom_tb.parameters)\n",
    ")"
   ]
  },
  {
   "cell_type": "markdown",
   "id": "f3703d22",
   "metadata": {
    "slideshow": {
     "slide_type": "subslide"
    }
   },
   "source": [
    "We need to compute a reduced space, onto which `reductor` projects. We use a greedy algorithm for that:"
   ]
  },
  {
   "cell_type": "code",
   "execution_count": null,
   "id": "8b34df1d",
   "metadata": {
    "slideshow": {
     "slide_type": "-"
    }
   },
   "outputs": [],
   "source": [
    "from pymor.algorithms.greedy import rb_greedy\n",
    "\n",
    "parameter_space = fom_tb.parameters.space(0.1, 1)\n",
    "greedy_data = rb_greedy(fom_tb, reductor, parameter_space.sample_randomly(1000),\n",
    "                        rtol=1e-2)\n",
    "rom_tb = greedy_data['rom']"
   ]
  },
  {
   "cell_type": "markdown",
   "id": "f87bb4dd",
   "metadata": {
    "slideshow": {
     "slide_type": "subslide"
    }
   },
   "source": [
    "ROM is also a `StationaryModel`, but of lower order:"
   ]
  },
  {
   "cell_type": "code",
   "execution_count": null,
   "id": "118c4521",
   "metadata": {
    "slideshow": {
     "slide_type": "-"
    }
   },
   "outputs": [],
   "source": [
    "rom_tb"
   ]
  },
  {
   "cell_type": "markdown",
   "id": "79431ad7",
   "metadata": {
    "slideshow": {
     "slide_type": "subslide"
    }
   },
   "source": [
    "Comparing FOM and ROM solutions:\n",
    "\n",
    "ROM solution:"
   ]
  },
  {
   "cell_type": "code",
   "execution_count": null,
   "id": "b104d34d",
   "metadata": {
    "slideshow": {
     "slide_type": "-"
    }
   },
   "outputs": [],
   "source": [
    "U_rom = rom_tb.solve(mu)\n",
    "U_rom"
   ]
  },
  {
   "cell_type": "markdown",
   "id": "6080950a",
   "metadata": {
    "slideshow": {
     "slide_type": "fragment"
    }
   },
   "source": [
    "Reconstruct and compare to FOM solution:"
   ]
  },
  {
   "cell_type": "code",
   "execution_count": null,
   "id": "2436dda1",
   "metadata": {
    "slideshow": {
     "slide_type": "-"
    }
   },
   "outputs": [],
   "source": [
    "U_rec = reductor.reconstruct(U_rom)\n",
    "fom_tb.visualize(U - U_rec)"
   ]
  },
  {
   "cell_type": "markdown",
   "id": "2f7bde28",
   "metadata": {
    "slideshow": {
     "slide_type": "subslide"
    }
   },
   "source": [
    "### Is it faster?\n",
    "\n",
    "Finally, we check that the reduced-order model is indeed faster:"
   ]
  },
  {
   "cell_type": "code",
   "execution_count": null,
   "id": "f7009bb5",
   "metadata": {
    "slideshow": {
     "slide_type": "-"
    }
   },
   "outputs": [],
   "source": [
    "from time import perf_counter\n",
    "tic = perf_counter()\n",
    "fom_tb.solve(mu)\n",
    "toc = perf_counter()\n",
    "rom_tb.solve(mu)\n",
    "tac = perf_counter()\n",
    "print(f't_fom: {toc-tic}  t_rom: {tac-toc}  speedup: {(toc-tic)/(tac-toc)}')"
   ]
  },
  {
   "cell_type": "markdown",
   "id": "4a4ff401",
   "metadata": {
    "slideshow": {
     "slide_type": "subslide"
    }
   },
   "source": [
    "### Your turn\n",
    "\n",
    "- Validate the FOM by computing the maximum error between `ROM` and `FOM` solution on a validation set of 10 random parameter values."
   ]
  },
  {
   "cell_type": "code",
   "execution_count": null,
   "id": "8ee0e7c0",
   "metadata": {
    "slideshow": {
     "slide_type": "-"
    }
   },
   "outputs": [],
   "source": [
    "\"\"\"\n",
    "validation_set = parameter_space.sample_randomly(...)\n",
    "errors = []\n",
    "for mu in ...:\n",
    "    u_rom = ...\n",
    "    U_rom = ...\n",
    "    U_fom = ...\n",
    "    U_err = ...\n",
    "    err = U_err.norm()[0]\n",
    "    errors.append(err)\n",
    "    \n",
    "print(max(errors))\n",
    "\"\"\""
   ]
  },
  {
   "cell_type": "markdown",
   "id": "187ae0f4",
   "metadata": {
    "slideshow": {
     "slide_type": "slide"
    }
   },
   "source": [
    "## Example: Balanced Truncation for LTI System"
   ]
  },
  {
   "cell_type": "markdown",
   "id": "c0b355c8",
   "metadata": {
    "slideshow": {
     "slide_type": "fragment"
    }
   },
   "source": [
    "*Details in a lecture tomorrow.*\n",
    "\n",
    "Here we consider a synthetic linear time-invariant (LTI) system of the form\n",
    "\n",
    "$$\n",
    "\\begin{align*}\n",
    "  \\dot{x}(t) & = A x(t) + B u(t), \\\\\n",
    "  y(t) & = C x(t),\n",
    "\\end{align*}\n",
    "$$\n",
    "\n",
    "where\n",
    "$x(t) \\in \\mathbb{R}^n$ is the state,\n",
    "$u(t) \\in \\mathbb{R}^m$ is the input, and\n",
    "$y(t) \\in \\mathbb{R}^p$ is the output."
   ]
  },
  {
   "cell_type": "code",
   "execution_count": null,
   "id": "26372607",
   "metadata": {
    "slideshow": {
     "slide_type": "subslide"
    }
   },
   "outputs": [],
   "source": [
    "from pymor.models.examples import penzl_example\n",
    "\n",
    "fom_lti = penzl_example()"
   ]
  },
  {
   "cell_type": "markdown",
   "id": "d870dd4f",
   "metadata": {
    "slideshow": {
     "slide_type": "fragment"
    }
   },
   "source": [
    "The result is an `LTIModel`:"
   ]
  },
  {
   "cell_type": "code",
   "execution_count": null,
   "id": "1c976e79",
   "metadata": {
    "slideshow": {
     "slide_type": "-"
    }
   },
   "outputs": [],
   "source": [
    "fom_lti"
   ]
  },
  {
   "cell_type": "code",
   "execution_count": null,
   "id": "80a44927",
   "metadata": {
    "slideshow": {
     "slide_type": "fragment"
    }
   },
   "outputs": [],
   "source": [
    "print(fom_lti)"
   ]
  },
  {
   "cell_type": "markdown",
   "id": "3abc7c0f",
   "metadata": {
    "slideshow": {
     "slide_type": "subslide"
    }
   },
   "source": [
    "We can use the Bode plot to show the frequency response of the LTI system, i.e.,\n",
    "to see which input frequencies are amplified and phase-shifted in the output."
   ]
  },
  {
   "cell_type": "code",
   "execution_count": null,
   "id": "5ff4ac5d",
   "metadata": {
    "slideshow": {
     "slide_type": "-"
    }
   },
   "outputs": [],
   "source": [
    "w = (1e-1, 1e5)\n",
    "_ = fom_lti.transfer_function.bode_plot(w)"
   ]
  },
  {
   "cell_type": "markdown",
   "id": "0c6e042b",
   "metadata": {
    "slideshow": {
     "slide_type": "subslide"
    }
   },
   "source": [
    "We can run balanced truncation to obtain a reduced-order model."
   ]
  },
  {
   "cell_type": "code",
   "execution_count": null,
   "id": "8c799c25",
   "metadata": {
    "slideshow": {
     "slide_type": "-"
    }
   },
   "outputs": [],
   "source": [
    "from pymor.reductors.bt import BTReductor\n",
    "\n",
    "bt = BTReductor(fom_lti)\n",
    "rom_lti = bt.reduce(10)"
   ]
  },
  {
   "cell_type": "markdown",
   "id": "61f35d59",
   "metadata": {
    "slideshow": {
     "slide_type": "subslide"
    }
   },
   "source": [
    "The reduced-order model is again an `LTIModel`, but of lower order."
   ]
  },
  {
   "cell_type": "code",
   "execution_count": null,
   "id": "42008b5e",
   "metadata": {
    "slideshow": {
     "slide_type": "-"
    }
   },
   "outputs": [],
   "source": [
    "rom_lti"
   ]
  },
  {
   "cell_type": "markdown",
   "id": "498481d4",
   "metadata": {
    "slideshow": {
     "slide_type": "subslide"
    }
   },
   "source": [
    "Looking at the error system, we can see which frequencies are well approximated."
   ]
  },
  {
   "cell_type": "code",
   "execution_count": null,
   "id": "3c8816b2",
   "metadata": {
    "slideshow": {
     "slide_type": "-"
    }
   },
   "outputs": [],
   "source": [
    "err_lti = fom_lti - rom_lti\n",
    "_ = err_lti.transfer_function.mag_plot(w)"
   ]
  },
  {
   "cell_type": "markdown",
   "id": "7b3a28a9",
   "metadata": {
    "slideshow": {
     "slide_type": "subslide"
    }
   },
   "source": [
    "### Your turn\n",
    "\n",
    "1. Change the reduced order above from 10 to 5, then regenerate the error plot.\n",
    "2. Change the reduced order to 20 and regenerate the plot."
   ]
  },
  {
   "cell_type": "markdown",
   "id": "4c9e3835",
   "metadata": {
    "slideshow": {
     "slide_type": "slide"
    }
   },
   "source": [
    "## Running Demo Scripts\n",
    "\n",
    "pyMOR ships several example scripts that showcase various features of the library.\n",
    "While many features are also covered in our tutorials, the demos are more extensive\n",
    "and often have various command-line flags which allow to run the script for different\n",
    "parameters or problems.\n",
    "All demos can be found in the [src/pymordemos](https://github.com/pymor/pymor/tree/main/src/pymordemos)\n",
    "directory of the source repository.\n",
    "\n",
    "The demo scripts can be launched directly from the source tree:\n",
    "\n",
    "```\n",
    "./thermalblock.py --plot-err --plot-solutions 3 2 3 32\n",
    "```\n",
    "\n",
    "or by using the `pymor-demo` script that is installed with pyMOR:\n",
    "\n",
    "```\n",
    "pymor-demo thermalblock --plot-err --plot-solutions 3 2 3 32\n",
    "```"
   ]
  },
  {
   "cell_type": "markdown",
   "id": "e9b01d82",
   "metadata": {
    "slideshow": {
     "slide_type": "slide"
    }
   },
   "source": [
    "## Getting help\n",
    "\n",
    "- pyMOR's documentation can be found at\n",
    "\n",
    "  > https://docs.pymor.org/latest\n",
    "\n",
    "- Be sure to read the [introduction](https://docs.pymor.org/latest/getting_started.html),\n",
    "  the [technical overview](https://docs.pymor.org/latest/technical_overview.html) and\n",
    "  the [tutorials](https://docs.pymor.org/latest/tutorials.html).\n",
    "\n",
    "- Ask questions on\n",
    "\n",
    "  > https://github.com/pymor/pymor/discussions"
   ]
  }
 ],
 "metadata": {
  "jupytext": {
   "default_lexer": "ipython3"
  },
  "kernelspec": {
   "display_name": "Python 3 (ipykernel)",
   "language": "python",
   "name": "python3"
  }
 },
 "nbformat": 4,
 "nbformat_minor": 5
}
